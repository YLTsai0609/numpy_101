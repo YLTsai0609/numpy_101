{
 "cells": [
  {
   "cell_type": "code",
   "execution_count": 2,
   "metadata": {
    "ExecuteTime": {
     "end_time": "2021-02-18T17:18:59.462274Z",
     "start_time": "2021-02-18T17:18:59.459333Z"
    }
   },
   "outputs": [],
   "source": [
    "from scipy.sparse import csr_matrix\n",
    "import numpy as np"
   ]
  },
  {
   "cell_type": "code",
   "execution_count": 6,
   "metadata": {
    "ExecuteTime": {
     "end_time": "2021-02-18T17:23:14.710460Z",
     "start_time": "2021-02-18T17:23:14.698577Z"
    }
   },
   "outputs": [
    {
     "data": {
      "text/plain": [
       "(<3x4 sparse matrix of type '<class 'numpy.int8'>'\n",
       " \twith 0 stored elements in Compressed Sparse Row format>,\n",
       " array([[0, 0, 0, 0],\n",
       "        [0, 0, 0, 0],\n",
       "        [0, 0, 0, 0]], dtype=int8),\n",
       " <3x3 sparse matrix of type '<class 'numpy.int64'>'\n",
       " \twith 6 stored elements in Compressed Sparse Row format>,\n",
       " array([[1, 0, 2],\n",
       "        [0, 0, 3],\n",
       "        [4, 5, 6]]),\n",
       " <3x3 sparse matrix of type '<class 'numpy.int64'>'\n",
       " \twith 6 stored elements in Compressed Sparse Row format>,\n",
       " array([[1, 0, 2],\n",
       "        [0, 0, 3],\n",
       "        [4, 5, 6]]))"
      ]
     },
     "execution_count": 6,
     "metadata": {},
     "output_type": "execute_result"
    }
   ],
   "source": [
    "# 1. creat Compressed Sparse Row matrix (csr)\n",
    "# https://docs.scipy.org/doc/scipy/reference/generated/scipy.sparse.csr_matrix.html\n",
    "\n",
    "# create element = 0, shape = (3, 4), dtype=np.int8 csr matrix\n",
    "sp_1 = csr_matrix((3, 4), dtype=np.int8)\n",
    "\n",
    "# create \n",
    "# element = [1,2,3,4,5,6]\n",
    "# position = [(0,0), (0,2), (1,2), (2,0), (2,1), (2,2)]\n",
    "# dtype default = np.int64\n",
    "# csr matrix\n",
    "row = np.array([0, 0, 1, 2, 2, 2])\n",
    "col = np.array([0, 2, 2, 0, 1, 2])\n",
    "data = np.array([1, 2, 3, 4, 5, 6])\n",
    "sp_2 = csr_matrix((data, (row, col)), shape=(3, 3))\n",
    "\n",
    "# create \n",
    "# data = [1,2,3,4,5,6]\n",
    "# column indices = [0,2,2,0,1,2]\n",
    "# index pointer = [0,2,3,6] \n",
    "indptr = np.array([0, 2, 3, 6])\n",
    "indices = np.array([0, 2, 2, 0, 1, 2])\n",
    "data = np.array([1, 2, 3, 4, 5, 6])\n",
    "sp_3 = csr_matrix((data, indices, indptr), shape=(3, 3))\n",
    "\n",
    "sp_1, sp_1.toarray(), sp_2, sp_2.toarray(), sp_3, sp_3.toarray()"
   ]
  },
  {
   "cell_type": "markdown",
   "metadata": {},
   "source": [
    "**2 what ia index pointer?**\n",
    "\n",
    "[ref](https://stackoverflow.com/questions/52299420/scipy-csr-matrix-understand-indptr)\n",
    "\n",
    "**what is it?**\n",
    "\n",
    "1. If the sparse matrix has $M$ rows, `indptr` is an array contains $M+1$ elements\n",
    "2. for row **i**, `[ indptr[i]:indptr[i+1] ]` returns the indices of element take from `data` and `indices` corresponding to row **i**\n",
    "\n",
    "<img src='./assets/scipy_1.png'></img>\n",
    "\n",
    "e.g. \n",
    "\n",
    "`data = [a,b,c,d,e,f,g,h,i,j,k]`, `n_elements = 11` \n",
    "\n",
    "`indices(columns) = [5,1,6,3,3,4,5,0,5,3,5]`, `n_elements = 11`\n",
    "\n",
    "`indptr = [0,1,3,4,7,8,9,11]`, `n_elements = 8` -> means there is 7 rows(row0 ~ row6)\n",
    "\n",
    "all right, how to fill the values?\n",
    "\n",
    "1. `index[0:1]` row 0 filling data **a** at indices(columns) **5**\n",
    "2. `index[1:3]` row 1 filling data **b, c** at indices(columns) **1, 6**\n",
    "3. `index[3:4]` row 2 filling data **d** at indices(columns) **3**\n",
    "4. `index[4:7]` row 3 filling data **e, f, g** at indices(columns) **3, 4, 5**\n",
    "5. `index[7:8]` row 4 filling data **h** at indices(columns) **0**\n",
    "6. `index[8:9]` row 5 filling data **i** at indices(columns) **5**\n",
    "7. `index[9:11]` row 6 filling data **j, k** at indices(columns) **3, 5**\n",
    "\n",
    "Note : the values `indptr` are necessarily increasing and unique\n",
    "\n",
    "**why use this?**\n",
    "\n",
    "you can observse that the index stored size is more smaller than\n",
    "\n",
    "`data, row, column` approach. \n",
    "\n",
    "use it when you need it.\n",
    "\n"
   ]
  },
  {
   "cell_type": "code",
   "execution_count": null,
   "metadata": {},
   "outputs": [],
   "source": []
  }
 ],
 "metadata": {
  "jupytext": {
   "formats": "ipynb,py:light"
  },
  "kernelspec": {
   "display_name": "Python 3",
   "language": "python",
   "name": "python3"
  },
  "language_info": {
   "codemirror_mode": {
    "name": "ipython",
    "version": 3
   },
   "file_extension": ".py",
   "mimetype": "text/x-python",
   "name": "python",
   "nbconvert_exporter": "python",
   "pygments_lexer": "ipython3",
   "version": "3.7.6"
  },
  "toc": {
   "base_numbering": 1,
   "nav_menu": {},
   "number_sections": true,
   "sideBar": true,
   "skip_h1_title": false,
   "title_cell": "Table of Contents",
   "title_sidebar": "Contents",
   "toc_cell": false,
   "toc_position": {},
   "toc_section_display": true,
   "toc_window_display": false
  }
 },
 "nbformat": 4,
 "nbformat_minor": 4
}
