{
 "cells": [
  {
   "cell_type": "code",
   "execution_count": 1,
   "metadata": {
    "ExecuteTime": {
     "end_time": "2021-03-01T13:33:43.983668Z",
     "start_time": "2021-03-01T13:33:43.594588Z"
    }
   },
   "outputs": [],
   "source": [
    "from scipy.sparse import csr_matrix\n",
    "from scipy import sparse\n",
    "import numpy as np"
   ]
  },
  {
   "cell_type": "code",
   "execution_count": 2,
   "metadata": {
    "ExecuteTime": {
     "end_time": "2021-03-01T13:33:44.001277Z",
     "start_time": "2021-03-01T13:33:43.985723Z"
    }
   },
   "outputs": [
    {
     "data": {
      "text/plain": [
       "(<3x4 sparse matrix of type '<class 'numpy.int8'>'\n",
       " \twith 0 stored elements in Compressed Sparse Row format>,\n",
       " array([[0, 0, 0, 0],\n",
       "        [0, 0, 0, 0],\n",
       "        [0, 0, 0, 0]], dtype=int8),\n",
       " <3x3 sparse matrix of type '<class 'numpy.int64'>'\n",
       " \twith 6 stored elements in Compressed Sparse Row format>,\n",
       " array([[1, 0, 2],\n",
       "        [0, 0, 3],\n",
       "        [4, 5, 6]]),\n",
       " <3x3 sparse matrix of type '<class 'numpy.int64'>'\n",
       " \twith 6 stored elements in Compressed Sparse Row format>,\n",
       " array([[1, 0, 2],\n",
       "        [0, 0, 3],\n",
       "        [4, 5, 6]]))"
      ]
     },
     "execution_count": 2,
     "metadata": {},
     "output_type": "execute_result"
    }
   ],
   "source": [
    "# 1. creat Compressed Sparse Row matrix (csr)\n",
    "# https://docs.scipy.org/doc/scipy/reference/generated/scipy.sparse.csr_matrix.html\n",
    "\n",
    "# create element = 0, shape = (3, 4), dtype=np.int8 csr matrix\n",
    "sp_1 = csr_matrix((3, 4), dtype=np.int8)\n",
    "\n",
    "# create \n",
    "# element = [1,2,3,4,5,6]\n",
    "# position = [(0,0), (0,2), (1,2), (2,0), (2,1), (2,2)]\n",
    "# dtype default = np.int64\n",
    "# csr matrix\n",
    "row = np.array([0, 0, 1, 2, 2, 2])\n",
    "col = np.array([0, 2, 2, 0, 1, 2])\n",
    "data = np.array([1, 2, 3, 4, 5, 6])\n",
    "sp_2 = csr_matrix((data, (row, col)), shape=(3, 3))\n",
    "\n",
    "# create \n",
    "# data = [1,2,3,4,5,6]\n",
    "# column indices = [0,2,2,0,1,2]\n",
    "# index pointer = [0,2,3,6] \n",
    "indptr = np.array([0, 2, 3, 6])\n",
    "indices = np.array([0, 2, 2, 0, 1, 2])\n",
    "data = np.array([1, 2, 3, 4, 5, 6])\n",
    "sp_3 = csr_matrix((data, indices, indptr), shape=(3, 3))\n",
    "\n",
    "sp_1, sp_1.toarray(), sp_2, sp_2.toarray(), sp_3, sp_3.toarray()"
   ]
  },
  {
   "cell_type": "code",
   "execution_count": 3,
   "metadata": {
    "ExecuteTime": {
     "end_time": "2021-03-01T13:33:44.006237Z",
     "start_time": "2021-03-01T13:33:44.003520Z"
    }
   },
   "outputs": [
    {
     "name": "stdout",
     "output_type": "stream",
     "text": [
      "['__abs__', '__add__', '__array_priority__', '__bool__', '__class__', '__delattr__', '__dict__', '__dir__', '__div__', '__doc__', '__eq__', '__format__', '__ge__', '__getattr__', '__getattribute__', '__getitem__', '__gt__', '__hash__', '__iadd__', '__idiv__', '__imul__', '__init__', '__init_subclass__', '__isub__', '__iter__', '__itruediv__', '__le__', '__len__', '__lt__', '__matmul__', '__module__', '__mul__', '__ne__', '__neg__', '__new__', '__nonzero__', '__pow__', '__radd__', '__rdiv__', '__reduce__', '__reduce_ex__', '__repr__', '__rmatmul__', '__rmul__', '__round__', '__rsub__', '__rtruediv__', '__setattr__', '__setitem__', '__sizeof__', '__str__', '__sub__', '__subclasshook__', '__truediv__', '__weakref__', '_add_dense', '_add_sparse', '_arg_min_or_max', '_arg_min_or_max_axis', '_asindices', '_binopt', '_cs_matrix__get_has_canonical_format', '_cs_matrix__get_sorted', '_cs_matrix__set_has_canonical_format', '_cs_matrix__set_sorted', '_deduped_data', '_divide', '_divide_sparse', '_get_arrayXarray', '_get_arrayXint', '_get_arrayXslice', '_get_columnXarray', '_get_dtype', '_get_intXarray', '_get_intXint', '_get_intXslice', '_get_sliceXarray', '_get_sliceXint', '_get_sliceXslice', '_get_submatrix', '_imag', '_inequality', '_insert_many', '_major_index_fancy', '_major_slice', '_maximum_minimum', '_min_or_max', '_min_or_max_axis', '_minor_index_fancy', '_minor_reduce', '_minor_slice', '_mul_multivector', '_mul_scalar', '_mul_sparse_matrix', '_mul_vector', '_prepare_indices', '_process_toarray_args', '_real', '_rsub_dense', '_scalar_binopt', '_set_arrayXarray', '_set_arrayXarray_sparse', '_set_dtype', '_set_intXint', '_set_many', '_set_self', '_setdiag', '_shape', '_sub_dense', '_sub_sparse', '_swap', '_validate_indices', '_with_data', '_zero_many', 'arcsin', 'arcsinh', 'arctan', 'arctanh', 'argmax', 'argmin', 'asformat', 'asfptype', 'astype', 'ceil', 'check_format', 'conj', 'conjugate', 'copy', 'count_nonzero', 'data', 'deg2rad', 'diagonal', 'dot', 'dtype', 'eliminate_zeros', 'expm1', 'floor', 'format', 'getH', 'get_shape', 'getcol', 'getformat', 'getmaxprint', 'getnnz', 'getrow', 'has_canonical_format', 'has_sorted_indices', 'indices', 'indptr', 'log1p', 'max', 'maximum', 'maxprint', 'mean', 'min', 'minimum', 'multiply', 'ndim', 'nnz', 'nonzero', 'power', 'prune', 'rad2deg', 'reshape', 'resize', 'rint', 'set_shape', 'setdiag', 'shape', 'sign', 'sin', 'sinh', 'sort_indices', 'sorted_indices', 'sqrt', 'sum', 'sum_duplicates', 'tan', 'tanh', 'toarray', 'tobsr', 'tocoo', 'tocsc', 'tocsr', 'todense', 'todia', 'todok', 'tolil', 'transpose', 'trunc']\n"
     ]
    }
   ],
   "source": [
    "# 1.5 the method and attributes\n",
    "print(dir(sp_1))"
   ]
  },
  {
   "cell_type": "markdown",
   "metadata": {},
   "source": [
    "**2 what ia index pointer?**\n",
    "\n",
    "[ref](https://stackoverflow.com/questions/52299420/scipy-csr-matrix-understand-indptr)\n",
    "\n",
    "**what is it?**\n",
    "\n",
    "1. If the sparse matrix has $M$ rows, `indptr` is an array contains $M+1$ elements\n",
    "2. for row **i**, `[ indptr[i]:indptr[i+1] ]` returns the indices of element take from `data` and `indices` corresponding to row **i**\n",
    "\n",
    "<img src='./assets/scipy_1.png'></img>\n",
    "\n",
    "e.g. \n",
    "\n",
    "`data = [a,b,c,d,e,f,g,h,i,j,k]`, `n_elements = 11` \n",
    "\n",
    "`indices(columns) = [5,1,6,3,3,4,5,0,5,3,5]`, `n_elements = 11`\n",
    "\n",
    "`indptr = [0,1,3,4,7,8,9,11]`, `n_elements = 8` -> means there is 7 rows(row0 ~ row6)\n",
    "\n",
    "all right, how to fill the values?\n",
    "\n",
    "1. `index[0:1]` row 0 filling data **a** at indices(columns) **5**\n",
    "2. `index[1:3]` row 1 filling data **b, c** at indices(columns) **1, 6**\n",
    "3. `index[3:4]` row 2 filling data **d** at indices(columns) **3**\n",
    "4. `index[4:7]` row 3 filling data **e, f, g** at indices(columns) **3, 4, 5**\n",
    "5. `index[7:8]` row 4 filling data **h** at indices(columns) **0**\n",
    "6. `index[8:9]` row 5 filling data **i** at indices(columns) **5**\n",
    "7. `index[9:11]` row 6 filling data **j, k** at indices(columns) **3, 5**\n",
    "\n",
    "Note : the values `indptr` are necessarily increasing and unique\n",
    "\n",
    "**why use this?**\n",
    "\n",
    "you can observse that the index stored size is more smaller than\n",
    "\n",
    "`data, row, column` approach. \n",
    "\n",
    "use it when you need it.\n",
    "\n"
   ]
  },
  {
   "cell_type": "code",
   "execution_count": 4,
   "metadata": {
    "ExecuteTime": {
     "end_time": "2021-03-01T13:33:44.017066Z",
     "start_time": "2021-03-01T13:33:44.008399Z"
    }
   },
   "outputs": [
    {
     "name": "stdout",
     "output_type": "stream",
     "text": [
      "[1 5 9]\n"
     ]
    },
    {
     "data": {
      "text/plain": [
       "<3x20 sparse matrix of type '<class 'numpy.int64'>'\n",
       "\twith 1 stored elements in Compressed Sparse Row format>"
      ]
     },
     "execution_count": 4,
     "metadata": {},
     "output_type": "execute_result"
    }
   ],
   "source": [
    "# 3 \n",
    "# sampling the csr matrix by row\n",
    "# Consider csr matrix with shape (User, Items) = (10, 20)\n",
    "# Random Sampling 3 users, return a csr matrix format\n",
    "\n",
    "# https://stackoverflow.com/questions/13843352/what-is-the-fastest-way-to-slice-a-scipy-sparse-matrix\n",
    "########## Consider efficient slicing row index of csr\n",
    "# Advantages of the CSR format\n",
    "# efficient arithmetic operations CSR + CSR, CSR * CSR, etc.\n",
    "\n",
    "# efficient row slicing\n",
    "\n",
    "# fast matrix vector products\n",
    "########## Begin\n",
    "# element = [1, 1, 1, 1, 1, 1] - have interacted items\n",
    "# position = [(0,0), (0,2), (1,2), (2,0), (2,1), (2,2)]\n",
    "row = np.array([0, 0, 1, 2, 2, 2])\n",
    "col = np.array([0, 2, 2, 0, 1, 2])\n",
    "data = np.array([1, 1, 1, 1, 1, 1])\n",
    "A = csr_matrix((data, (row, col)), shape=(10, 20))\n",
    "\n",
    "n_sampled_users = 3\n",
    "n_total_users = A.shape[0]\n",
    "rdn_user_idx = np.random.choice(np.arange(n_total_users),\n",
    "                                size=n_sampled_users,replace=False) # without replacement\n",
    "print(rdn_user_idx)\n",
    "A[rdn_user_idx, :]"
   ]
  },
  {
   "cell_type": "code",
   "execution_count": 5,
   "metadata": {
    "ExecuteTime": {
     "end_time": "2021-03-01T13:33:44.029856Z",
     "start_time": "2021-03-01T13:33:44.020050Z"
    },
    "lines_to_next_cell": 0
   },
   "outputs": [
    {
     "data": {
      "text/plain": [
       "matrix([[1, 0, 1],\n",
       "        [0, 0, 1],\n",
       "        [1, 1, 1]])"
      ]
     },
     "metadata": {},
     "output_type": "display_data"
    },
    {
     "name": "stdout",
     "output_type": "stream",
     "text": [
      "[0 2]\n",
      "[2]\n",
      "[0 1 2]\n"
     ]
    }
   ],
   "source": [
    "# 4 \n",
    "# the attributes indptr and indices\n",
    "# element = [1, 1, 1, 1, 1, 1] - have interacted items\n",
    "# position = [(0,0), (0,2), (1,2), (2,0), (2,1), (2,2)]\n",
    "row = np.array([0, 0, 1, 2, 2, 2])\n",
    "col = np.array([0, 2, 2, 0, 1, 2])\n",
    "data = np.array([1, 1, 1, 1, 1, 1])\n",
    "A = csr_matrix((data, (row, col)), shape=(3,3))\n",
    "display(A.todense())\n",
    "\n",
    "\n",
    "for user in range(A.shape[0]):\n",
    "        start_usr = A.indptr[user]\n",
    "        end_usr = A.indptr[user + 1]\n",
    "        print(A.indices[start_usr:end_usr]) # this will show the non zero column per user"
   ]
  },
  {
   "cell_type": "code",
   "execution_count": 7,
   "metadata": {
    "ExecuteTime": {
     "end_time": "2021-03-01T13:33:57.609628Z",
     "start_time": "2021-03-01T13:33:53.398356Z"
    },
    "lines_to_next_cell": 2
   },
   "outputs": [
    {
     "name": "stderr",
     "output_type": "stream",
     "text": [
      "/Users/YuLong/miniconda3/envs/py_37_ds/lib/python3.7/site-packages/scipy/sparse/_index.py:124: SparseEfficiencyWarning: Changing the sparsity structure of a csr_matrix is expensive. lil_matrix is more efficient.\n",
      "  self._set_arrayXarray(i, j, x)\n"
     ]
    },
    {
     "name": "stdout",
     "output_type": "stream",
     "text": [
      "512 µs ± 12.2 µs per loop (mean ± std. dev. of 7 runs, 1000 loops each)\n"
     ]
    }
   ],
   "source": [
    "%%timeit\n",
    "# 5. Knowing the pros and cons of different sparse matrix\n",
    "# https://docs.scipy.org/doc/scipy/reference/generated/scipy.sparse.csr_matrix.html\n",
    "# CSR\n",
    "#   Pros: efficient arithmetic operations, efficient row slicing, fast matrix vector products\n",
    "#   Cons: slow column sclining operations(Consider CSC), changes to the sparsity structure are expensive(Consider LIL or DOK)\n",
    "\n",
    "M = sparse.random(5, 10, .2, format='csr')\n",
    "# column operation\n",
    "M[-1, :] = np.arange(10)"
   ]
  },
  {
   "cell_type": "code",
   "execution_count": 8,
   "metadata": {
    "ExecuteTime": {
     "end_time": "2021-03-01T13:35:16.897307Z",
     "start_time": "2021-03-01T13:35:13.465900Z"
    }
   },
   "outputs": [
    {
     "name": "stdout",
     "output_type": "stream",
     "text": [
      "419 µs ± 8.36 µs per loop (mean ± std. dev. of 7 runs, 1000 loops each)\n"
     ]
    }
   ],
   "source": [
    "%%timeit\n",
    "M = sparse.random(5,10,.2,format='csr')\n",
    "M1=M.tolil(); M1[-1,:] = np.arange(10); M = M1.tocsr()\n"
   ]
  },
  {
   "cell_type": "code",
   "execution_count": 9,
   "metadata": {
    "ExecuteTime": {
     "end_time": "2021-03-01T13:35:20.305873Z",
     "start_time": "2021-03-01T13:35:16.899250Z"
    }
   },
   "outputs": [
    {
     "name": "stdout",
     "output_type": "stream",
     "text": [
      "414 µs ± 2.32 µs per loop (mean ± std. dev. of 7 runs, 1000 loops each)\n"
     ]
    }
   ],
   "source": [
    "%%timeit\n",
    "M = sparse.random(5,10,.2,format='lil')\n",
    "M[-1,:] = np.arange(10)\n",
    "M = M.tocsr()"
   ]
  },
  {
   "cell_type": "code",
   "execution_count": null,
   "metadata": {},
   "outputs": [],
   "source": []
  }
 ],
 "metadata": {
  "jupytext": {
   "formats": "ipynb,py:light"
  },
  "kernelspec": {
   "display_name": "Python 3",
   "language": "python",
   "name": "python3"
  },
  "language_info": {
   "codemirror_mode": {
    "name": "ipython",
    "version": 3
   },
   "file_extension": ".py",
   "mimetype": "text/x-python",
   "name": "python",
   "nbconvert_exporter": "python",
   "pygments_lexer": "ipython3",
   "version": "3.7.6"
  },
  "toc": {
   "base_numbering": 1,
   "nav_menu": {},
   "number_sections": true,
   "sideBar": true,
   "skip_h1_title": false,
   "title_cell": "Table of Contents",
   "title_sidebar": "Contents",
   "toc_cell": false,
   "toc_position": {},
   "toc_section_display": true,
   "toc_window_display": false
  }
 },
 "nbformat": 4,
 "nbformat_minor": 4
}
