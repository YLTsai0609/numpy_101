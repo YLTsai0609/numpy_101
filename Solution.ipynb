{
 "cells": [
  {
   "cell_type": "markdown",
   "metadata": {},
   "source": [
    "## There are alternative solution and hits: \n",
    "### more readable\n",
    " > 26, 27, 38, 48, 49, 50, 52, 53, 63, 67\n",
    "### more effient (vectorlized)\n",
    " > 40\n",
    " ### when to use it?\n",
    " > 9, 15, 16, 44, 45, 46\n",
    " ### hints\n",
    " > 5, 7, 20, 21, 24, 30, 40, 42, 43, 45, 66"
   ]
  },
  {
   "cell_type": "markdown",
   "metadata": {},
   "source": [
    "# Outline\n",
    "* NumPy 高速運算徹底解說 \n",
    "\n",
    "\n",
    "Ch01 NumPy 的基礎\n",
    "\n",
    "1-1 認識 NumPy 的基本操作\n",
    "\n",
    "1-2 ndarray 多維陣列的基本概念\n",
    "\n",
    "1-3 ndarray 的軸 (axis) 與維度 (dimension)\n",
    "\n",
    "1-4 ndarray 的 dtype 屬性\n",
    "\n",
    "1-5 ndarray 的切片 (Slicing) 操作\n",
    "\n",
    "1-6 陣列擴張 (Broadcasting)\n",
    "\n",
    "Ch02 NumPy基本運算函式\n",
    "\n",
    "2-1 陣列重塑 - reshape()、resize()\n",
    "\n",
    "2-2 在陣列最後面加入元素 – append()\n",
    "\n",
    "2-3 判斷陣列真假值 – all()、any()\n",
    "\n",
    "2-4 找出符合條件的元素 – where()\n",
    "\n",
    "2-5 取出最大值、最小值 – amax()、amin()\n",
    "\n",
    "2-6 取出最大值、最小值的索引位置 – argmax()、argmin()\n",
    "\n",
    "2-7 陣列轉置 – transpose()\n",
    "\n",
    "2-8 陣列排序 – sort() 與 argsort()\n",
    "\n",
    "2-9 陣列合併 – vstack()、hstack()\n",
    "\n",
    "2-10 建立元素都是 0 的陣列 – zeros()\n",
    "\n",
    "2-11 建立元素都是 1 的陣列 – ones()\n",
    "\n",
    "2-12 建立「不限定元素值」的陣列 – empty()\n",
    "\n",
    "2-13 建立指定範圍的等差陣列 – arange()\n",
    "\n",
    "2-14 建立指定範圍的等差陣列 – linspace()\n",
    "\n",
    "2-15 建立單位矩陣 – eye()、identity()\n",
    "\n",
    "2-16 將陣列展平為 1D 陣列 – flatten()\n",
    "\n",
    "2-17 將陣列展平為 1D 陣列 – ravel()\n",
    "\n",
    "2-18 找出不是 0 的元素 – nonzero()\n",
    "\n",
    "2-19 複製陣列元素, 拚貼成新陣列 – tile()\n",
    "\n",
    "2-20 增加陣列的軸數 – np.newaxis\n",
    "\n",
    "2-21 陣列合併 – np.r_ 與 np.c_ 物件\n",
    "\n",
    "2-22 陣列的儲存與讀取 – save() 與 load()\n",
    "\n",
    "2-23 以文字格式儲存、讀取陣列內容 – savetxt() 與 loadtxt()\n",
    "\n",
    "2-24 建立隨機亂數的陣列 – random 模組\n",
    "\n",
    "Ch03 NumPy 的數學函式\n",
    "\n",
    "3-1 基本的數學運算函式\n",
    "\n",
    "3-2 計算元素平均值 – average() 與 mean()\n",
    "\n",
    "3-3 計算中位數 – median()\n",
    "\n",
    "3-4 計算元素總和 – sum()\n",
    "\n",
    "3-5 計算標準差 – std()\n",
    "\n",
    "3-6 計算變異數 – var()\n",
    "\n",
    "3-7 計算共變異數 – cov() \n",
    "\n",
    "3-8 計算相關係數 – corrcoef()\n",
    "\n",
    "3-9 網格陣列 – meshgrid()\n",
    "\n",
    "3-10 點積運算 – dot()\n",
    "\n",
    "3-11 計算矩陣的 determinant – linalg.det()\n",
    "\n",
    "3-12 計算矩陣的「特徵值」與「特徵向量」 – linalg.eig()\n",
    "\n",
    "3-13 計算矩陣的 rank – linalg.matrix_rank()\n",
    "\n",
    "3-14 計算矩陣的「反矩陣」 – linalg.inv() \n",
    "\n",
    "3-15 計算張量積 – outer()\n",
    "\n",
    "3-16 計算叉積 – cross() \n",
    "\n",
    "3-17 計算卷積 – convolve()\n",
    "\n",
    "3-18 將連續值轉換為離散值 – digitize()\n",
    "\n"
   ]
  },
  {
   "cell_type": "code",
   "execution_count": 1,
   "metadata": {
    "ExecuteTime": {
     "end_time": "2019-12-26T14:23:04.812235Z",
     "start_time": "2019-12-26T14:23:04.541249Z"
    }
   },
   "outputs": [],
   "source": [
    "import numpy as np\n",
    "np.random.seed(seed=42)"
   ]
  },
  {
   "cell_type": "code",
   "execution_count": 2,
   "metadata": {
    "ExecuteTime": {
     "end_time": "2019-12-26T14:23:04.835396Z",
     "start_time": "2019-12-26T14:23:04.817027Z"
    }
   },
   "outputs": [
    {
     "data": {
      "text/plain": [
       "'1.16.4'"
      ]
     },
     "execution_count": 2,
     "metadata": {},
     "output_type": "execute_result"
    }
   ],
   "source": [
    "# 1. Import numpy as np and see the version\n",
    "# Difficulty Level: L1\n",
    "\n",
    "# Q. Import numpy as `np` and print the version number.\n",
    "\n",
    "np.__version__"
   ]
  },
  {
   "cell_type": "code",
   "execution_count": 3,
   "metadata": {
    "ExecuteTime": {
     "end_time": "2019-12-26T14:23:04.850778Z",
     "start_time": "2019-12-26T14:23:04.840669Z"
    }
   },
   "outputs": [
    {
     "data": {
      "text/plain": [
       "array([0, 1, 2, 3, 4, 5, 6, 7, 8, 9])"
      ]
     },
     "execution_count": 3,
     "metadata": {},
     "output_type": "execute_result"
    }
   ],
   "source": [
    "# 2. How to create a 1D array?\n",
    "# Difficulty Level: L1\n",
    "\n",
    "# Q. Create a 1D array of numbers from 0 to 9\n",
    "\n",
    "np.arange(10)"
   ]
  },
  {
   "cell_type": "code",
   "execution_count": 4,
   "metadata": {
    "ExecuteTime": {
     "end_time": "2019-12-26T14:23:04.863751Z",
     "start_time": "2019-12-26T14:23:04.855165Z"
    }
   },
   "outputs": [
    {
     "data": {
      "text/plain": [
       "array([[ True,  True,  True],\n",
       "       [ True,  True,  True],\n",
       "       [ True,  True,  True]])"
      ]
     },
     "execution_count": 4,
     "metadata": {},
     "output_type": "execute_result"
    }
   ],
   "source": [
    "# 3. How to create a boolean array?\n",
    "# Difficulty Level: L1\n",
    "\n",
    "# Q. Create a 3×3 numpy array of all True’s\n",
    "\n",
    "np.full((3,3), True)"
   ]
  },
  {
   "cell_type": "code",
   "execution_count": 5,
   "metadata": {
    "ExecuteTime": {
     "end_time": "2019-12-26T14:23:04.880722Z",
     "start_time": "2019-12-26T14:23:04.868343Z"
    }
   },
   "outputs": [
    {
     "data": {
      "text/plain": [
       "array([1, 3, 5, 7, 9])"
      ]
     },
     "execution_count": 5,
     "metadata": {},
     "output_type": "execute_result"
    }
   ],
   "source": [
    "# 4. How to extract items that satisfy a given condition from 1D array?\n",
    "# Difficulty Level: L1\n",
    "\n",
    "# Q. Extract all odd numbers from arr\n",
    "arr = np.array([0, 1, 2, 3, 4, 5, 6, 7, 8, 9])\n",
    "\n",
    "condintion = arr % 2 == 1\n",
    "arr[condintion]"
   ]
  },
  {
   "cell_type": "code",
   "execution_count": 6,
   "metadata": {
    "ExecuteTime": {
     "end_time": "2019-12-26T14:23:04.897135Z",
     "start_time": "2019-12-26T14:23:04.885156Z"
    },
    "lines_to_next_cell": 2
   },
   "outputs": [
    {
     "data": {
      "text/plain": [
       "array([ 0, -1,  2, -1,  4, -1,  6, -1,  8, -1])"
      ]
     },
     "execution_count": 6,
     "metadata": {},
     "output_type": "execute_result"
    }
   ],
   "source": [
    "# 5. How to replace items that satisfy a condition with another value in numpy array?\n",
    "# Difficulty Level: L1\n",
    "\n",
    "# Q. Replace all odd numbers in arr with -1\n",
    "\n",
    "arr = np.array([0, 1, 2, 3, 4, 5, 6, 7, 8, 9])\n",
    "\n",
    "np.where(arr % 2 == 1, -1, arr)\n",
    "\n",
    "# Hint\n",
    "# 4,5題比較，如果只想要部分符合條件的結果 - 用 boolean array\n",
    "# 如果想要整個array的結果, 符合與不符合分別map到不同的值 - 用 np.where\n",
    "# When to use\n",
    "# Feature engineering, 根據條件來變更array的值, 非常常用"
   ]
  },
  {
   "cell_type": "code",
   "execution_count": 7,
   "metadata": {
    "ExecuteTime": {
     "end_time": "2019-12-26T14:23:04.913598Z",
     "start_time": "2019-12-26T14:23:04.903776Z"
    }
   },
   "outputs": [
    {
     "name": "stdout",
     "output_type": "stream",
     "text": [
      "[0 1 2 3 4 5 6 7 8 9]\n",
      "[ 0 -1  2 -1  4 -1  6 -1  8 -1]\n"
     ]
    }
   ],
   "source": [
    "# 6. How to replace items that satisfy a condition without affecting the original array?\n",
    "# Difficulty Level: L2\n",
    "# Q. Replace all odd numbers in arr with -1 without changing arr\n",
    "\n",
    "arr = np.array([0, 1, 2, 3, 4, 5, 6, 7, 8, 9])\n",
    "\n",
    "result = np.where(arr % 2 == 1, -1, arr)\n",
    "print(arr, result, sep='\\n')"
   ]
  },
  {
   "cell_type": "code",
   "execution_count": 8,
   "metadata": {
    "ExecuteTime": {
     "end_time": "2019-12-26T14:23:04.930044Z",
     "start_time": "2019-12-26T14:23:04.918885Z"
    }
   },
   "outputs": [
    {
     "data": {
      "text/plain": [
       "array([[0, 1, 2, 3, 4],\n",
       "       [5, 6, 7, 8, 9]])"
      ]
     },
     "execution_count": 8,
     "metadata": {},
     "output_type": "execute_result"
    }
   ],
   "source": [
    "# 7. How to reshape an array?\n",
    "# Difficulty Level: L1\n",
    "\n",
    "# Q. Convert a 1D array to a 2D array with 2 rows\n",
    "\n",
    "arr = np.arange(10)\n",
    "\n",
    "arr.reshape(2, -1)\n",
    "\n",
    "# hint \n",
    "# -1 表示剩餘的行/列可以被決定 在此例中，我們已經決定rows = 2\n",
    "# 則 columns 為 10 / 2 = 5"
   ]
  },
  {
   "cell_type": "code",
   "execution_count": 9,
   "metadata": {
    "ExecuteTime": {
     "end_time": "2019-12-26T14:23:04.950332Z",
     "start_time": "2019-12-26T14:23:04.934114Z"
    }
   },
   "outputs": [
    {
     "data": {
      "text/plain": [
       "array([[0, 1, 2, 3, 4],\n",
       "       [5, 6, 7, 8, 9],\n",
       "       [1, 1, 1, 1, 1],\n",
       "       [1, 1, 1, 1, 1]])"
      ]
     },
     "execution_count": 9,
     "metadata": {},
     "output_type": "execute_result"
    }
   ],
   "source": [
    "# 8. How to stack two arrays vertically?\n",
    "# Difficulty Level: L2\n",
    "\n",
    "# Q. Stack arrays a and b vertically\n",
    "\n",
    "a = np.arange(10).reshape(2,-1)\n",
    "b = np.repeat(1, 10).reshape(2,-1)\n",
    "\n",
    "np.vstack([a, b])"
   ]
  },
  {
   "cell_type": "code",
   "execution_count": 10,
   "metadata": {
    "ExecuteTime": {
     "end_time": "2019-12-26T14:23:04.962688Z",
     "start_time": "2019-12-26T14:23:04.953100Z"
    }
   },
   "outputs": [
    {
     "data": {
      "text/plain": [
       "array([[0, 1, 2, 3, 4, 1, 1, 1, 1, 1],\n",
       "       [5, 6, 7, 8, 9, 1, 1, 1, 1, 1]])"
      ]
     },
     "execution_count": 10,
     "metadata": {},
     "output_type": "execute_result"
    }
   ],
   "source": [
    "# 9. How to stack two arrays horizontally?\n",
    "# Difficulty Level: L2\n",
    "\n",
    "# Q. Stack the arrays a and b horizontally.\n",
    "\n",
    "a = np.arange(10).reshape(2,-1)\n",
    "\n",
    "b = np.repeat(1, 10).reshape(2,-1)\n",
    "\n",
    "np.hstack([a, b])\n",
    "\n",
    "# when to use?\n",
    "# 在迴圈中，例如Cross-validation, 做陣列操作, 例如合併特徵重要度,\n",
    "# 或是拼接特徵"
   ]
  },
  {
   "cell_type": "code",
   "execution_count": 11,
   "metadata": {
    "ExecuteTime": {
     "end_time": "2019-12-26T14:23:04.976377Z",
     "start_time": "2019-12-26T14:23:04.966553Z"
    }
   },
   "outputs": [
    {
     "data": {
      "text/plain": [
       "array([1, 1, 1, 2, 2, 2, 3, 3, 3, 1, 2, 3, 1, 2, 3])"
      ]
     },
     "execution_count": 11,
     "metadata": {},
     "output_type": "execute_result"
    }
   ],
   "source": [
    "# 10. How to generate custom sequences in numpy without hardcoding?\n",
    "# Difficulty Level: L2\n",
    "\n",
    "# Q. Create the following pattern without hardcoding. Use only numpy functions and the below input array a.\n",
    "\n",
    "a = np.array([1,2,3])\n",
    "\n",
    "result = np.hstack([np.repeat(a, 3),\n",
    "                    np.tile(a, 2)])\n",
    "result"
   ]
  },
  {
   "cell_type": "code",
   "execution_count": 12,
   "metadata": {
    "ExecuteTime": {
     "end_time": "2019-12-26T14:23:04.992154Z",
     "start_time": "2019-12-26T14:23:04.979916Z"
    }
   },
   "outputs": [
    {
     "data": {
      "text/plain": [
       "array([2, 4])"
      ]
     },
     "execution_count": 12,
     "metadata": {},
     "output_type": "execute_result"
    }
   ],
   "source": [
    "# 11. How to get the common items between two python numpy arrays?\n",
    "# Difficulty Level: L2\n",
    "\n",
    "# Q. Get the common items between a and b\n",
    "\n",
    "a = np.array([1,2,3,2,3,4,3,4,5,6])\n",
    "b = np.array([7,2,10,2,7,4,9,4,9,8])\n",
    "\n",
    "np.intersect1d(a, b)"
   ]
  },
  {
   "cell_type": "code",
   "execution_count": 13,
   "metadata": {
    "ExecuteTime": {
     "end_time": "2019-12-26T14:23:05.006904Z",
     "start_time": "2019-12-26T14:23:04.995437Z"
    },
    "lines_to_next_cell": 2
   },
   "outputs": [
    {
     "data": {
      "text/plain": [
       "array([ 7, 10,  7,  9,  9,  8])"
      ]
     },
     "execution_count": 13,
     "metadata": {},
     "output_type": "execute_result"
    }
   ],
   "source": [
    "# 12. How to remove from one array those items that exist in another?\n",
    "# Difficulty Level: L2\n",
    "\n",
    "# Q. From array a remove all items present in array b\n",
    "\n",
    "a = np.array([1,2,3,2,3,4,3,4,5,6])\n",
    "b = np.array([7,2,10,2,7,4,9,4,9,8])\n",
    "\n",
    "intersect = np.intersect1d(a, b)\n",
    "b[~np.isin(b, a)]"
   ]
  },
  {
   "cell_type": "code",
   "execution_count": 14,
   "metadata": {
    "ExecuteTime": {
     "end_time": "2019-12-26T14:23:05.020257Z",
     "start_time": "2019-12-26T14:23:05.010833Z"
    }
   },
   "outputs": [
    {
     "data": {
      "text/plain": [
       "array([1, 3, 5, 7])"
      ]
     },
     "execution_count": 14,
     "metadata": {},
     "output_type": "execute_result"
    }
   ],
   "source": [
    "# 13. How to get the positions where elements of two arrays match?\n",
    "# Difficulty Level: L2\n",
    "a = np.array([1,2,3,2,3,4,3,4,5,6])\n",
    "b = np.array([7,2,10,2,7,4,9,4,9,8])\n",
    "\n",
    "np.argwhere(a==b).reshape(-1)"
   ]
  },
  {
   "cell_type": "code",
   "execution_count": 15,
   "metadata": {
    "ExecuteTime": {
     "end_time": "2019-12-26T14:23:05.032740Z",
     "start_time": "2019-12-26T14:23:05.023590Z"
    }
   },
   "outputs": [
    {
     "data": {
      "text/plain": [
       "array([ 6,  9, 10])"
      ]
     },
     "execution_count": 15,
     "metadata": {},
     "output_type": "execute_result"
    }
   ],
   "source": [
    "# 14. How to extract all numbers between a given range from a numpy array?\n",
    "# Difficulty Level: L2\n",
    "a = np.array([2, 6, 1, 9, 10, 3, 27])\n",
    "\n",
    "idx = np.argwhere((5 <= a) & (a<=10)).reshape(-1)\n",
    "a[idx]"
   ]
  },
  {
   "cell_type": "code",
   "execution_count": 16,
   "metadata": {
    "ExecuteTime": {
     "end_time": "2019-12-26T14:23:05.049102Z",
     "start_time": "2019-12-26T14:23:05.036585Z"
    }
   },
   "outputs": [
    {
     "data": {
      "text/plain": [
       "array([6, 7, 9, 8, 9, 7, 5])"
      ]
     },
     "execution_count": 16,
     "metadata": {},
     "output_type": "execute_result"
    }
   ],
   "source": [
    "# 15. How to make a python function that handles scalars to work on numpy arrays?\n",
    "# Difficulty Level: L2\n",
    "def maxx(x, y):\n",
    "    \"\"\"Get the maximum of two items\"\"\"\n",
    "    if x >= y:\n",
    "        return x\n",
    "    else:\n",
    "        return y\n",
    "v_maxx = np.vectorize(maxx, otypes=[int])\n",
    "\n",
    "# when to use\n",
    "# you want faster speed but no np function suit your case\n",
    "# then define it, vectorlize it\n",
    "a = np.array([5, 7, 9, 8, 6, 4, 5])\n",
    "b = np.array([6, 3, 4, 8, 9, 7, 1])\n",
    "v_maxx(a, b)"
   ]
  },
  {
   "cell_type": "code",
   "execution_count": 17,
   "metadata": {
    "ExecuteTime": {
     "end_time": "2019-12-26T14:23:05.062723Z",
     "start_time": "2019-12-26T14:23:05.053399Z"
    }
   },
   "outputs": [
    {
     "data": {
      "text/plain": [
       "array([[1, 0, 2],\n",
       "       [4, 3, 5],\n",
       "       [7, 6, 8]])"
      ]
     },
     "execution_count": 17,
     "metadata": {},
     "output_type": "execute_result"
    }
   ],
   "source": [
    "# 16. How to swap two columns in a 2d numpy array?\n",
    "# Difficulty Level: L2\n",
    "arr = np.arange(9).reshape(3,3)\n",
    "# when to use\n",
    "# change your feature values if they are numpy.array\n",
    "arr[:, [1,0,2]]"
   ]
  },
  {
   "cell_type": "code",
   "execution_count": 18,
   "metadata": {
    "ExecuteTime": {
     "end_time": "2019-12-26T14:23:05.075613Z",
     "start_time": "2019-12-26T14:23:05.065846Z"
    }
   },
   "outputs": [
    {
     "data": {
      "text/plain": [
       "array([[3, 4, 5],\n",
       "       [0, 1, 2],\n",
       "       [6, 7, 8]])"
      ]
     },
     "execution_count": 18,
     "metadata": {},
     "output_type": "execute_result"
    }
   ],
   "source": [
    "# 17. How to swap two rows in a 2d numpy array?\n",
    "# Difficulty Level: L2\n",
    "arr = np.arange(9).reshape(3,3)\n",
    "arr[[1,0,2], :]"
   ]
  },
  {
   "cell_type": "code",
   "execution_count": 19,
   "metadata": {
    "ExecuteTime": {
     "end_time": "2019-12-26T14:23:05.101370Z",
     "start_time": "2019-12-26T14:23:05.091199Z"
    }
   },
   "outputs": [
    {
     "data": {
      "text/plain": [
       "array([[6, 7, 8],\n",
       "       [3, 4, 5],\n",
       "       [0, 1, 2]])"
      ]
     },
     "execution_count": 19,
     "metadata": {},
     "output_type": "execute_result"
    }
   ],
   "source": [
    "# 18. How to reverse the rows of a 2D array?\n",
    "# Difficulty Level: L2\n",
    "arr = np.arange(9).reshape(3,3)\n",
    "arr[::-1, :]"
   ]
  },
  {
   "cell_type": "code",
   "execution_count": 20,
   "metadata": {
    "ExecuteTime": {
     "end_time": "2019-12-26T14:23:05.114966Z",
     "start_time": "2019-12-26T14:23:05.105187Z"
    }
   },
   "outputs": [
    {
     "data": {
      "text/plain": [
       "array([[2, 1, 0],\n",
       "       [5, 4, 3],\n",
       "       [8, 7, 6]])"
      ]
     },
     "execution_count": 20,
     "metadata": {},
     "output_type": "execute_result"
    }
   ],
   "source": [
    "# 19. How to reverse the columns of a 2D array?\n",
    "# Difficulty Level: L2\n",
    "arr = np.arange(9).reshape(3,3)\n",
    "arr[:,::-1]"
   ]
  },
  {
   "cell_type": "code",
   "execution_count": 21,
   "metadata": {
    "ExecuteTime": {
     "end_time": "2019-12-26T14:23:05.135033Z",
     "start_time": "2019-12-26T14:23:05.118703Z"
    }
   },
   "outputs": [
    {
     "name": "stdout",
     "output_type": "stream",
     "text": [
      "[[8.93855271 9.00077877 7.99221156]\n",
      " [9.61748151 9.61165316 6.00706631]\n",
      " [7.02306243 7.52477466 7.39986097]\n",
      " [9.04666566 8.97375552 7.23277134]\n",
      " [9.09060643 6.61838601 8.38246199]]\n",
      "[[9.91615443 7.33381447 9.29970203]\n",
      " [8.40153769 7.25249626 5.06632481]\n",
      " [9.71100878 7.81644109 6.92708251]\n",
      " [5.07983126 6.15446913 6.20512733]\n",
      " [8.41631759 8.04998329 9.16597456]]\n"
     ]
    }
   ],
   "source": [
    "# 20. How to create a 2D array containing random floats between 5 and 10?\n",
    "# Difficulty Level: L2\n",
    "\n",
    "# sol1\n",
    "sol1 = np.random.randint(5, 10, size=(5,3)) + np.random.random(size=(5,3))\n",
    "print(sol1)\n",
    "sol2 = np.random.uniform(low=5, high=10, size=(5,3))\n",
    "print(sol2)\n",
    "# hint\n",
    "# random methods are really make people confused\n",
    "# we can check the method using dir and list-comprehension\n",
    "# and it just saved your time\n",
    "# method_list = dir(np.random)\n",
    "# [method for method in method_list\n",
    "#                    if method.startswith('rand')]\n",
    "# quick note\n",
    "# random.ranint(low, high, size) --> [low, high) interger only\n",
    "# random.random_integers(low, high, size) --> [low, high] interger only\n",
    "# random.uniform(low, high, size) --> [low, high) float\n",
    "# random.random(size) --> [0,1) float\n",
    "# https://www.jianshu.com/p/214798dd8f93 簡書上的numpy.random相關函數整理，作者推薦"
   ]
  },
  {
   "cell_type": "code",
   "execution_count": 22,
   "metadata": {
    "ExecuteTime": {
     "end_time": "2019-12-26T14:23:05.157481Z",
     "start_time": "2019-12-26T14:23:05.147750Z"
    }
   },
   "outputs": [
    {
     "name": "stdout",
     "output_type": "stream",
     "text": [
      "[[0.173 0.391 0.182]\n",
      " [0.755 0.425 0.208]\n",
      " [0.568 0.031 0.842]\n",
      " [0.45  0.395 0.927]\n",
      " [0.727 0.327 0.57 ]]\n"
     ]
    }
   ],
   "source": [
    "# 21. How to print only 3 decimal places in python numpy array?\n",
    "# Difficulty Level: L1\n",
    "rand_arr = np.random.random((5,3))\n",
    "# sol1\n",
    "np.round(rand_arr,3)\n",
    "# sol2\n",
    "np.set_printoptions(precision=3)\n",
    "print(rand_arr)\n",
    "\n",
    "# hint\n",
    "# back_to_fefault option (by numpy documentation)\n",
    "np.set_printoptions(edgeitems=3,infstr='inf',\n",
    "linewidth=75, nanstr='nan', precision=8,\n",
    "suppress=False, threshold=1000, formatter=None)"
   ]
  },
  {
   "cell_type": "code",
   "execution_count": 23,
   "metadata": {
    "ExecuteTime": {
     "end_time": "2019-12-26T14:23:05.170308Z",
     "start_time": "2019-12-26T14:23:05.161988Z"
    }
   },
   "outputs": [],
   "source": [
    "# 22. How to pretty print a numpy array by suppressing the scientific notation (like 1e10)?\n",
    "# Difficulty Level: L1\n",
    "rand_arr = np.random.random([3,3])/1e4\n",
    "rand_arr\n",
    "np.set_printoptions(suppress=True, precision=5)\n",
    "rand_arr\n",
    "\n",
    "# hint\n",
    "# back_to_fefault option (by numpy documentation)\n",
    "np.set_printoptions(edgeitems=3,infstr='inf',\n",
    "linewidth=75, nanstr='nan', precision=8,\n",
    "suppress=False, threshold=1000, formatter=None)"
   ]
  },
  {
   "cell_type": "code",
   "execution_count": 24,
   "metadata": {
    "ExecuteTime": {
     "end_time": "2019-12-26T14:23:05.183961Z",
     "start_time": "2019-12-26T14:23:05.174550Z"
    }
   },
   "outputs": [
    {
     "name": "stdout",
     "output_type": "stream",
     "text": [
      "[ 0  1  2 ... 12 13 14]\n"
     ]
    }
   ],
   "source": [
    "# 23. How to limit the number of items printed in output of numpy array?\n",
    "# Difficulty Level: L1\n",
    "a = np.arange(15)\n",
    "np.set_printoptions(threshold=6)\n",
    "print(a)\n",
    "\n",
    "# hint\n",
    "# back_to_fefault option (by numpy documentation)\n",
    "np.set_printoptions(edgeitems=3,infstr='inf',\n",
    "linewidth=75, nanstr='nan', precision=8,\n",
    "suppress=False, threshold=1000, formatter=None)"
   ]
  },
  {
   "cell_type": "code",
   "execution_count": 25,
   "metadata": {
    "ExecuteTime": {
     "end_time": "2019-12-26T14:23:05.196970Z",
     "start_time": "2019-12-26T14:23:05.188344Z"
    }
   },
   "outputs": [
    {
     "name": "stdout",
     "output_type": "stream",
     "text": [
      "[ 0  1  2  3  4  5  6  7  8  9 10 11 12 13 14]\n"
     ]
    }
   ],
   "source": [
    "# 24. How to print the full numpy array without truncating\n",
    "# Difficulty Level: L1\n",
    "a = np.arange(15)\n",
    "np.set_printoptions(threshold=None)\n",
    "print(a)\n",
    "\n",
    "# hint\n",
    "# back_to_fefault option (by numpy documentation)\n",
    "np.set_printoptions(edgeitems=3,infstr='inf',\n",
    "linewidth=75, nanstr='nan', precision=8,\n",
    "suppress=False, threshold=1000, formatter=None)"
   ]
  },
  {
   "cell_type": "code",
   "execution_count": 26,
   "metadata": {
    "ExecuteTime": {
     "end_time": "2019-12-26T14:23:05.216976Z",
     "start_time": "2019-12-26T14:23:05.200639Z"
    }
   },
   "outputs": [
    {
     "data": {
      "text/plain": [
       "array([[b'5.1', b'3.5', b'1.4', b'0.2', b'Iris-setosa'],\n",
       "       [b'4.9', b'3.0', b'1.4', b'0.2', b'Iris-setosa'],\n",
       "       [b'4.7', b'3.2', b'1.3', b'0.2', b'Iris-setosa']], dtype=object)"
      ]
     },
     "execution_count": 26,
     "metadata": {},
     "output_type": "execute_result"
    }
   ],
   "source": [
    "# 25. How to import a dataset with numbers and texts keeping the text intact in python numpy?\n",
    "# Difficulty Level: L2\n",
    "url = 'https://archive.ics.uci.edu/ml/machine-learning-databases/iris/iris.data'\n",
    "iris = np.genfromtxt(url, delimiter=',', dtype='object')\n",
    "names = ('sepallength', 'sepalwidth', 'petallength', 'petalwidth', 'species')\n",
    "iris[:3]"
   ]
  },
  {
   "cell_type": "code",
   "execution_count": 27,
   "metadata": {
    "ExecuteTime": {
     "end_time": "2019-12-26T14:23:05.235596Z",
     "start_time": "2019-12-26T14:23:05.220318Z"
    },
    "lines_to_next_cell": 2
   },
   "outputs": [
    {
     "name": "stderr",
     "output_type": "stream",
     "text": [
      "/Users/longlong/.pyenv/versions/3.6.5/lib/python3.6/site-packages/ipykernel_launcher.py:7: VisibleDeprecationWarning: Reading unicode strings without specifying the encoding argument is deprecated. Set the encoding, use None for the system default.\n",
      "  import sys\n"
     ]
    },
    {
     "data": {
      "text/plain": [
       "array([b'Iris-setosa', b'Iris-setosa', b'Iris-setosa', b'Iris-setosa',\n",
       "       b'Iris-setosa'], dtype='|S15')"
      ]
     },
     "execution_count": 27,
     "metadata": {},
     "output_type": "execute_result"
    }
   ],
   "source": [
    "# 26. How to extract a particular column from 1D array of tuples?\n",
    "# Difficulty Level: L2\n",
    "\n",
    "url = 'https://archive.ics.uci.edu/ml/machine-learning-databases/iris/iris.data'\n",
    "iris_1d = np.genfromtxt(url, delimiter=',',\n",
    "                        names=['a','b','c','d','txt'],\n",
    "                        dtype=None)\n",
    "# More readable\n",
    "# use names filed \n",
    "# documentation about named fields \n",
    "# https://docs.scipy.org/doc/numpy-1.15.0/user/basics.rec.html\n",
    "iris_1d['txt'][:5]"
   ]
  },
  {
   "cell_type": "code",
   "execution_count": 28,
   "metadata": {
    "ExecuteTime": {
     "end_time": "2019-12-26T14:23:05.255844Z",
     "start_time": "2019-12-26T14:23:05.239567Z"
    },
    "lines_to_next_cell": 2
   },
   "outputs": [
    {
     "name": "stderr",
     "output_type": "stream",
     "text": [
      "/Users/longlong/.pyenv/versions/3.6.5/lib/python3.6/site-packages/ipykernel_launcher.py:4: VisibleDeprecationWarning: Reading unicode strings without specifying the encoding argument is deprecated. Set the encoding, use None for the system default.\n",
      "  after removing the cwd from sys.path.\n"
     ]
    },
    {
     "data": {
      "text/plain": [
       "array([(5.1, 3.5, 1.4, 0.2, b'Iris-setosa'),\n",
       "       (4.9, 3. , 1.4, 0.2, b'Iris-setosa'),\n",
       "       (4.7, 3.2, 1.3, 0.2, b'Iris-setosa'),\n",
       "       (4.6, 3.1, 1.5, 0.2, b'Iris-setosa'),\n",
       "       (5. , 3.6, 1.4, 0.2, b'Iris-setosa')],\n",
       "      dtype=[('f0', '<f8'), ('f1', '<f8'), ('f2', '<f8'), ('f3', '<f8'), ('f4', 'S15')])"
      ]
     },
     "execution_count": 28,
     "metadata": {},
     "output_type": "execute_result"
    }
   ],
   "source": [
    "# 27. How to convert a 1d array of tuples to a 2d numpy array?\n",
    "# Difficulty Level: L2\n",
    "url = 'https://archive.ics.uci.edu/ml/machine-learning-databases/iris/iris.data'\n",
    "iris_1d = np.genfromtxt(url, delimiter=',', dtype=None)\n",
    "\n",
    "# More readable\n",
    "# Just use asarray to unpack the element\n",
    "result = np.asarray(iris_1d)\n",
    "result[:5]"
   ]
  },
  {
   "cell_type": "code",
   "execution_count": 29,
   "metadata": {
    "ExecuteTime": {
     "end_time": "2019-12-26T14:23:05.276001Z",
     "start_time": "2019-12-26T14:23:05.259653Z"
    },
    "lines_to_next_cell": 2
   },
   "outputs": [
    {
     "name": "stdout",
     "output_type": "stream",
     "text": [
      "mean  5.843333333333335\n",
      "median  5.8\n",
      "std  0.8253012917851409\n"
     ]
    }
   ],
   "source": [
    "# 28. How to compute the mean, median, standard deviation of a numpy array?\n",
    "# Difficulty: L1\n",
    "\n",
    "url = 'https://archive.ics.uci.edu/ml/machine-learning-databases/iris/iris.data'\n",
    "iris = np.genfromtxt(url, delimiter=',', dtype='object')\n",
    "iris[:, 0:4] = iris[:, 0:4].astype(float)\n",
    "print( 'mean ',iris[:, 0].mean())\n",
    "print('median ', np.median(iris[:, 0]))\n",
    "print('std ',iris[:, 0].std())"
   ]
  },
  {
   "cell_type": "code",
   "execution_count": 30,
   "metadata": {
    "ExecuteTime": {
     "end_time": "2019-12-26T14:23:05.291650Z",
     "start_time": "2019-12-26T14:23:05.279258Z"
    }
   },
   "outputs": [
    {
     "data": {
      "text/plain": [
       "array([0.22222222, 0.16666667, 0.11111111, 0.08333333, 0.19444444])"
      ]
     },
     "execution_count": 30,
     "metadata": {},
     "output_type": "execute_result"
    }
   ],
   "source": [
    "# 29. How to normalize an array so the values range exactly between 0 and 1?\n",
    "# Difficulty: L2\n",
    "url = 'https://archive.ics.uci.edu/ml/machine-learning-databases/iris/iris.data'\n",
    "sepallength = np.genfromtxt(url, delimiter=',', dtype='float', usecols=[0])\n",
    "\n",
    "Smax, Smin = sepallength.max(), sepallength.min()\n",
    "S = (sepallength - Smin) / (Smax - Smin)\n",
    "S[:5]"
   ]
  },
  {
   "cell_type": "code",
   "execution_count": 31,
   "metadata": {
    "ExecuteTime": {
     "end_time": "2019-12-26T14:23:05.306698Z",
     "start_time": "2019-12-26T14:23:05.294604Z"
    }
   },
   "outputs": [
    {
     "name": "stdout",
     "output_type": "stream",
     "text": [
      "The max of softmax score : \n",
      "0.036500296150864316\n",
      "The mean of softmax score : \n",
      "0.0066666666666666645\n"
     ]
    }
   ],
   "source": [
    "# 30. How to compute the softmax score?\n",
    "# Difficulty Level: L3\n",
    "\n",
    "url = 'https://archive.ics.uci.edu/ml/machine-learning-databases/iris/iris.data'\n",
    "sepallength = np.genfromtxt(url, delimiter=',', dtype='float', usecols=[0])\n",
    "softmax_socre = np.exp(sepallength) / sum(np.exp(sepallength))\n",
    "softmax_socre[:5]\n",
    "\n",
    "# hint \n",
    "# softmax score --> 一種歸一化, 將原本的元素壓縮在0,1之間, 且所有元素和為1\n",
    "# 這樣的歸一化能夠強調最大的值, 並使其他值遠小於最大值\n",
    "# Wiki : https://zh.wikipedia.org/wiki/Softmax%E5%87%BD%E6%95%B0\n",
    "print('The max of softmax score : ',softmax_socre.max(),\n",
    "      'The mean of softmax score : ', softmax_socre.mean(), sep='\\n')\n",
    "# when to use?\n",
    "# Logistic regression, NN, Maive Byes ...."
   ]
  },
  {
   "cell_type": "code",
   "execution_count": 32,
   "metadata": {
    "ExecuteTime": {
     "end_time": "2019-12-26T14:23:05.324575Z",
     "start_time": "2019-12-26T14:23:05.310989Z"
    },
    "lines_to_next_cell": 2
   },
   "outputs": [
    {
     "name": "stdout",
     "output_type": "stream",
     "text": [
      "4.6\n",
      "7.254999999999998\n"
     ]
    }
   ],
   "source": [
    "# 31. How to find the percentile scores of a numpy array?\n",
    "# Difficulty Level: L1\n",
    "# Q. Find the 5th and 95th percentile of iris's sepallength\n",
    "\n",
    "\n",
    "url = 'https://archive.ics.uci.edu/ml/machine-learning-databases/iris/iris.data'\n",
    "sepallength = np.genfromtxt(url, delimiter=',', dtype='float', usecols=[0])\n",
    "print(np.quantile(sepallength, 0.05))\n",
    "print(np.quantile(sepallength, 0.95))"
   ]
  },
  {
   "cell_type": "code",
   "execution_count": 33,
   "metadata": {
    "ExecuteTime": {
     "end_time": "2019-12-26T14:23:05.344603Z",
     "start_time": "2019-12-26T14:23:05.328471Z"
    }
   },
   "outputs": [
    {
     "data": {
      "text/plain": [
       "array([[b'5.1', b'3.5', b'1.4', b'0.2', b'Iris-setosa'],\n",
       "       [b'4.9', b'3.0', b'1.4', b'0.2', b'Iris-setosa'],\n",
       "       [b'4.7', b'3.2', b'1.3', b'0.2', b'Iris-setosa'],\n",
       "       [b'4.6', b'3.1', b'1.5', b'0.2', b'Iris-setosa'],\n",
       "       [b'5.0', b'3.6', nan, b'0.2', b'Iris-setosa'],\n",
       "       [b'5.4', b'3.9', b'1.7', b'0.4', b'Iris-setosa'],\n",
       "       [b'4.6', b'3.4', b'1.4', b'0.3', b'Iris-setosa'],\n",
       "       [b'5.0', b'3.4', b'1.5', b'0.2', b'Iris-setosa'],\n",
       "       [b'4.4', b'2.9', b'1.4', nan, b'Iris-setosa'],\n",
       "       [b'4.9', b'3.1', b'1.5', b'0.1', b'Iris-setosa']], dtype=object)"
      ]
     },
     "execution_count": 33,
     "metadata": {},
     "output_type": "execute_result"
    }
   ],
   "source": [
    "# 32. How to insert values at random positions in an array?\n",
    "# Difficulty Level: L2\n",
    "\n",
    "# Q. Insert np.nan values at 20 random positions in iris_2d dataset\n",
    "\n",
    "url = 'https://archive.ics.uci.edu/ml/machine-learning-databases/iris/iris.data'\n",
    "iris_2d = np.genfromtxt(url, delimiter=',', dtype='object')\n",
    "\n",
    "pos_x = np.random.randint(low=0, high=iris_2d.shape[0], size=20)\n",
    "pos_y = np.random.randint(low=0, high=iris_2d.shape[1], size=20)\n",
    "iris_2d[pos_x, pos_y] = np.nan\n",
    "iris_2d[:10]"
   ]
  },
  {
   "cell_type": "code",
   "execution_count": 34,
   "metadata": {
    "ExecuteTime": {
     "end_time": "2019-12-26T14:23:05.357832Z",
     "start_time": "2019-12-26T14:23:05.347886Z"
    },
    "lines_to_next_cell": 2
   },
   "outputs": [],
   "source": [
    "# 33. How to find the position of missing values in numpy array?\n",
    "# Difficulty Level: L2\n",
    "# Q. Find the number and position of missing values in iris_2d's sepallength (1st column)\n",
    "\n",
    "url = 'https://archive.ics.uci.edu/ml/machine-learning-databases/iris/iris.data'\n",
    "iris_2d = np.genfromtxt(url, delimiter=',', dtype='float')\n",
    "iris_2d[np.random.randint(150, size=20), np.random.randint(4, size=20)] = np.nan"
   ]
  },
  {
   "cell_type": "code",
   "execution_count": 35,
   "metadata": {
    "ExecuteTime": {
     "end_time": "2019-12-26T14:23:05.373958Z",
     "start_time": "2019-12-26T14:23:05.360489Z"
    },
    "lines_to_next_cell": 2
   },
   "outputs": [
    {
     "data": {
      "text/plain": [
       "array([[4.8, 3.4, 1.6, 0.2],\n",
       "       [4.8, 3.4, 1.9, 0.2],\n",
       "       [4.7, 3.2, 1.6, 0.2],\n",
       "       [4.8, 3.1, 1.6, 0.2],\n",
       "       [4.9, 2.4, 3.3, 1. ]])"
      ]
     },
     "execution_count": 35,
     "metadata": {},
     "output_type": "execute_result"
    }
   ],
   "source": [
    "# 34. How to filter a numpy array based on two or more conditions?\n",
    "# Difficulty Level: L3\n",
    "\n",
    "# Q. Filter the rows of iris_2d that has petallength (3rd column) > 1.5 and sepallength (1st column) < 5.0\n",
    "\n",
    "url = 'https://archive.ics.uci.edu/ml/machine-learning-databases/iris/iris.data'\n",
    "iris_2d = np.genfromtxt(url, delimiter=',', dtype='float', usecols=[0,1,2,3])\n",
    "\n",
    "condition = (iris_2d[:, 2] > 1.5) & (iris_2d[:, 0] < 5.0)\n",
    "iris_2d[condition][:5]"
   ]
  },
  {
   "cell_type": "code",
   "execution_count": 36,
   "metadata": {
    "ExecuteTime": {
     "end_time": "2019-12-26T14:23:05.396922Z",
     "start_time": "2019-12-26T14:23:05.377594Z"
    }
   },
   "outputs": [
    {
     "name": "stdout",
     "output_type": "stream",
     "text": [
      "(134, 4)\n"
     ]
    },
    {
     "data": {
      "text/plain": [
       "array([[5.1, 3.5, 1.4, 0.2],\n",
       "       [4.9, 3. , 1.4, 0.2],\n",
       "       [4.6, 3.1, 1.5, 0.2],\n",
       "       [5. , 3.6, 1.4, 0.2],\n",
       "       [5.4, 3.9, 1.7, 0.4]])"
      ]
     },
     "execution_count": 36,
     "metadata": {},
     "output_type": "execute_result"
    }
   ],
   "source": [
    "# 35. How to drop rows that contain a missing value from a numpy array?\n",
    "# Difficulty Level: L3:\n",
    "# Q. Select the rows of iris_2d that does not have any nan value.\n",
    "\n",
    "url = 'https://archive.ics.uci.edu/ml/machine-learning-databases/iris/iris.data'\n",
    "iris_2d = np.genfromtxt(url, delimiter=',', dtype='float', usecols=[0,1,2,3])\n",
    "iris_2d[np.random.randint(150, size=20), np.random.randint(4, size=20)] = np.nan\n",
    "\n",
    "# mask or np.where\n",
    "# np.isnan will flattern our 2d-array\n",
    "# so followed will return shape = 600\n",
    "# condintion = ~ np.isnan(iris_2d)\n",
    "# iris_2d[condintion].shape\n",
    "\n",
    "# then we do it by rowise\n",
    "mask = [~ np.any(np.isnan(row)) for row in iris_2d]\n",
    "print(iris_2d[mask].shape)\n",
    "iris_2d[mask][:5]"
   ]
  },
  {
   "cell_type": "code",
   "execution_count": 37,
   "metadata": {
    "ExecuteTime": {
     "end_time": "2019-12-26T14:23:05.415636Z",
     "start_time": "2019-12-26T14:23:05.400445Z"
    }
   },
   "outputs": [
    {
     "data": {
      "text/plain": [
       "array([[1.        , 0.87175416],\n",
       "       [0.87175416, 1.        ]])"
      ]
     },
     "execution_count": 37,
     "metadata": {},
     "output_type": "execute_result"
    }
   ],
   "source": [
    "# 36. How to find the correlation between two columns of a numpy array?\n",
    "# Difficulty Level: L2\n",
    "# Q. Find the correlation between SepalLength(1st column) and PetalLength(3rd column) in iris_2d\n",
    "\n",
    "url = 'https://archive.ics.uci.edu/ml/machine-learning-databases/iris/iris.data'\n",
    "iris_2d = np.genfromtxt(url, delimiter=',', dtype='float', usecols=[0,1,2,3])\n",
    "\n",
    "np.corrcoef(iris_2d[:, 0], iris_2d[:, 2])"
   ]
  },
  {
   "cell_type": "code",
   "execution_count": 38,
   "metadata": {
    "ExecuteTime": {
     "end_time": "2019-12-26T14:23:05.444176Z",
     "start_time": "2019-12-26T14:23:05.424552Z"
    },
    "lines_to_next_cell": 0
   },
   "outputs": [
    {
     "data": {
      "text/plain": [
       "True"
      ]
     },
     "execution_count": 38,
     "metadata": {},
     "output_type": "execute_result"
    }
   ],
   "source": [
    "# 37. How to find if a given array has any null values?\n",
    "# Difficulty Level: L2\n",
    "# iris_2d[np.random.randint(150, size=20), np.random.randint(4, size=20)] = np.nan\n",
    "url = 'https://archive.ics.uci.edu/ml/machine-learning-databases/iris/iris.data'\n",
    "iris_2d = np.genfromtxt(url, delimiter=',', dtype='float', usecols=[0,1,2,3])\n",
    "iris_2d[np.random.randint(150, size=20), np.random.randint(4, size=20)] = np.nan\n",
    "\n",
    "np.isnan(iris_2d).any()\n",
    "\n",
    "\n"
   ]
  },
  {
   "cell_type": "code",
   "execution_count": null,
   "metadata": {
    "lines_to_next_cell": 2
   },
   "outputs": [],
   "source": []
  },
  {
   "cell_type": "code",
   "execution_count": 39,
   "metadata": {
    "ExecuteTime": {
     "end_time": "2019-12-26T14:23:05.462481Z",
     "start_time": "2019-12-26T14:23:05.449304Z"
    },
    "lines_to_next_cell": 2
   },
   "outputs": [
    {
     "name": "stdout",
     "output_type": "stream",
     "text": [
      "False\n"
     ]
    }
   ],
   "source": [
    "# 38. How to replace all missing values with 0 in a numpy array?\n",
    "# Difficulty Level: L2\n",
    "\n",
    "# Q. Replace all ccurrences of nan with 0 in numpy array\n",
    "\n",
    "url = 'https://archive.ics.uci.edu/ml/machine-learning-databases/iris/iris.data'\n",
    "iris_2d = np.genfromtxt(url, delimiter=',', dtype='float', usecols=[0,1,2,3])\n",
    "iris_2d[np.random.randint(150, size=20), np.random.randint(4, size=20)] = np.nan\n",
    "\n",
    "\n",
    "# More readable \n",
    "iris_2d = np.where(np.isnan(iris_2d), 0, iris_2d)\n",
    "print(np.isnan(iris_2d).any())"
   ]
  },
  {
   "cell_type": "code",
   "execution_count": 40,
   "metadata": {
    "ExecuteTime": {
     "end_time": "2019-12-26T14:23:05.478921Z",
     "start_time": "2019-12-26T14:23:05.465165Z"
    },
    "lines_to_next_cell": 2
   },
   "outputs": [
    {
     "data": {
      "text/plain": [
       "(array([b'Iris-setosa', b'Iris-versicolor', b'Iris-virginica'],\n",
       "       dtype=object), array([50, 50, 50]))"
      ]
     },
     "execution_count": 40,
     "metadata": {},
     "output_type": "execute_result"
    }
   ],
   "source": [
    "# 39. How to find the count of unique values in a numpy array?\n",
    "# Difficulty Level: L2\n",
    "\n",
    "# Q. Find the unique values and the count of unique values in iris's species\n",
    "\n",
    "url = 'https://archive.ics.uci.edu/ml/machine-learning-databases/iris/iris.data'\n",
    "iris = np.genfromtxt(url, delimiter=',', dtype='object')\n",
    "names = ('sepallength', 'sepalwidth', 'petallength', 'petalwidth', 'species')\n",
    "\n",
    "\n",
    "np.unique(iris[:, -1], return_counts=True)"
   ]
  },
  {
   "cell_type": "code",
   "execution_count": 41,
   "metadata": {
    "ExecuteTime": {
     "end_time": "2019-12-26T14:23:05.501868Z",
     "start_time": "2019-12-26T14:23:05.481772Z"
    },
    "lines_to_next_cell": 2
   },
   "outputs": [
    {
     "data": {
      "text/plain": [
       "array(['small', 'small', 'small', 'small', 'small'], dtype='<U6')"
      ]
     },
     "execution_count": 41,
     "metadata": {},
     "output_type": "execute_result"
    }
   ],
   "source": [
    "# 40. How to convert a numeric to a categorical (text) array?\n",
    "# Difficulty Level: L2\n",
    "\n",
    "# Q. Bin the petal length (3rd) column of iris_2d to form a text array, such that if petal length is:\n",
    "\n",
    "# Less than 3 --> 'small'\n",
    "# 3-5 --> 'medium'\n",
    "# '>=5 --> 'large'\n",
    "\n",
    "url = 'https://archive.ics.uci.edu/ml/machine-learning-databases/iris/iris.data'\n",
    "iris = np.genfromtxt(url, delimiter=',', dtype='object')\n",
    "names = ('sepallength', 'sepalwidth', 'petallength', 'petalwidth', 'species')\n",
    "\n",
    "# Vectorlized\n",
    "\n",
    "bins = np.array([0, 3, 5, 100])\n",
    "def label_map(x):\n",
    "    if x == 1:\n",
    "        return 'small'\n",
    "    elif x == 2:\n",
    "        return 'medium'\n",
    "    elif x == 3:\n",
    "        return 'large'\n",
    "    else:\n",
    "        return np.nan\n",
    "tmp = np.digitize(iris[:, 2].astype(float), bins)\n",
    "v_label_map = np.vectorize(label_map)\n",
    "v_label_map(tmp)[:5]\n",
    "\n",
    "# Hint\n",
    "# the comparision below when your data is really large\n",
    "# use dictionary and list-comprehension\n"
   ]
  },
  {
   "cell_type": "code",
   "execution_count": 42,
   "metadata": {
    "ExecuteTime": {
     "end_time": "2019-12-26T14:23:05.510695Z",
     "start_time": "2019-12-26T14:23:05.506142Z"
    }
   },
   "outputs": [],
   "source": [
    "# test_arr = np.random.randint(low=1, high=4, size=5000000)"
   ]
  },
  {
   "cell_type": "markdown",
   "metadata": {
    "lines_to_next_cell": 2
   },
   "source": [
    "%%time\n",
    "label_map = {1 : 'small', 2 : 'medium', 3:'large'}\n",
    "result = [label_map[element] for element in test_arr]\n",
    "took 1.71s on my mac-air"
   ]
  },
  {
   "cell_type": "code",
   "execution_count": 43,
   "metadata": {
    "ExecuteTime": {
     "end_time": "2019-12-26T14:23:05.519422Z",
     "start_time": "2019-12-26T14:23:05.514984Z"
    },
    "lines_to_next_cell": 0
   },
   "outputs": [],
   "source": [
    "# %%time\n",
    "# def label_map(x):\n",
    "#     if x == 1:\n",
    "#         return 'small'\n",
    "#     elif x == 2:\n",
    "#         return 'medium'\n",
    "#     elif x == 3:\n",
    "#         return 'large'\n",
    "#     else:\n",
    "#         return np.nan\n",
    "# v_label_map = np.vectorize(label_map)\n",
    "# v_label_map(tmp)\n",
    "# took 191 µs o my mac-air\n",
    "\n",
    "# A brief report no stackoverflow\n",
    "# https://stackoverflow.com/questions/35215161/most-efficient-way-to-map-function-over-numpy-array"
   ]
  },
  {
   "cell_type": "code",
   "execution_count": null,
   "metadata": {},
   "outputs": [],
   "source": []
  },
  {
   "cell_type": "code",
   "execution_count": null,
   "metadata": {
    "lines_to_next_cell": 2
   },
   "outputs": [],
   "source": []
  },
  {
   "cell_type": "code",
   "execution_count": 44,
   "metadata": {
    "ExecuteTime": {
     "end_time": "2019-12-26T14:23:05.539083Z",
     "start_time": "2019-12-26T14:23:05.524561Z"
    }
   },
   "outputs": [
    {
     "data": {
      "text/plain": [
       "array([38.13265163, 35.20049849, 30.07237208, 33.23805027, 36.65191429])"
      ]
     },
     "execution_count": 44,
     "metadata": {},
     "output_type": "execute_result"
    }
   ],
   "source": [
    "# 41. How to create a new column from existing columns of a numpy array?\n",
    "# Difficulty Level: L2\n",
    "\n",
    "# Q. Create a new column for volume in iris_2d, where volume is (pi x petallength x sepal_length^2)/3\n",
    "\n",
    "url = 'https://archive.ics.uci.edu/ml/machine-learning-databases/iris/iris.data'\n",
    "iris_2d = np.genfromtxt(url, delimiter=',', dtype='object')\n",
    "names = ('sepallength', 'sepalwidth', 'petallength', 'petalwidth', 'species')\n",
    "pi = np.pi\n",
    "\n",
    "result = pi * iris_2d[:, 2].astype(float) * (iris_2d[:, 0].astype(float) ** 2) / 3\n",
    "result[:5]"
   ]
  },
  {
   "cell_type": "code",
   "execution_count": 45,
   "metadata": {
    "ExecuteTime": {
     "end_time": "2019-12-26T14:23:05.556959Z",
     "start_time": "2019-12-26T14:23:05.542755Z"
    }
   },
   "outputs": [
    {
     "name": "stdout",
     "output_type": "stream",
     "text": [
      "result array distribution : (array([b'Iris-setosa', b'Iris-versicolor', b'Iris-virginica'],\n",
      "      dtype=object), array([40, 34, 26]))\n"
     ]
    }
   ],
   "source": [
    "# 42. How to do probabilistic sampling in numpy?\n",
    "# Difficulty Level: L3\n",
    "    \n",
    "# Q. Randomly sample iris's species such that setose is twice the number of versicolor and virginica\n",
    "url = 'https://archive.ics.uci.edu/ml/machine-learning-databases/iris/iris.data'\n",
    "iris = np.genfromtxt(url, delimiter=',', dtype='object')\n",
    "\n",
    "\n",
    "spcies_unq = np.unique(iris[:, -1])\n",
    "p = [0.5, 0.25, 0.25]\n",
    "result = np.random.choice(spcies_unq, size=100, p=p)\n",
    "print('result array distribution :',np.unique(result, return_counts=True))\n",
    "\n",
    "# hint\n",
    "# you could see sampling documentation \n",
    "# https://docs.scipy.org/doc/numpy-1.16.0/reference/routines.random.html"
   ]
  },
  {
   "cell_type": "code",
   "execution_count": 46,
   "metadata": {
    "ExecuteTime": {
     "end_time": "2019-12-26T14:23:05.574404Z",
     "start_time": "2019-12-26T14:23:05.560924Z"
    },
    "lines_to_next_cell": 2
   },
   "outputs": [
    {
     "data": {
      "text/plain": [
       "1.7"
      ]
     },
     "execution_count": 46,
     "metadata": {},
     "output_type": "execute_result"
    }
   ],
   "source": [
    "# 43. How to get the second largest value of an array when grouped by another array?\n",
    "# Difficulty Level: L2\n",
    "\n",
    "# Q. What is the value of second longest petallength of species setosa\n",
    "\n",
    "url = 'https://archive.ics.uci.edu/ml/machine-learning-databases/iris/iris.data'\n",
    "iris = np.genfromtxt(url, delimiter=',', dtype='object')\n",
    "names = ('sepallength', 'sepalwidth', 'petallength', 'petalwidth', 'species')\n",
    "\n",
    "condition = iris[:, -1] == b'Iris-setosa'\n",
    "\n",
    "tmp = iris[condition, 2].astype(float)\n",
    "np.unique(np.sort(tmp))[-2]\n",
    "\n",
    "# hint\n",
    "# numpy中並沒有像pd.Series一樣有ascending選項"
   ]
  },
  {
   "cell_type": "code",
   "execution_count": 47,
   "metadata": {
    "ExecuteTime": {
     "end_time": "2019-12-26T14:23:05.594273Z",
     "start_time": "2019-12-26T14:23:05.578640Z"
    }
   },
   "outputs": [
    {
     "data": {
      "text/plain": [
       "array([(4.3, 3. , 1.1, 0.1, b'Iris-setosa'),\n",
       "       (4.4, 2.9, 1.4, 0.2, b'Iris-setosa'),\n",
       "       (4.4, 3. , 1.3, 0.2, b'Iris-setosa'),\n",
       "       (4.4, 3.2, 1.3, 0.2, b'Iris-setosa'),\n",
       "       (4.5, 2.3, 1.3, 0.3, b'Iris-setosa')],\n",
       "      dtype=[('sepallength', '<f8'), ('sepalwidth', '<f8'), ('petallength', '<f8'), ('petalwidth', '<f8'), ('species', 'O')])"
      ]
     },
     "execution_count": 47,
     "metadata": {},
     "output_type": "execute_result"
    }
   ],
   "source": [
    "# 44. How to sort a 2D array by a column\n",
    "# Difficulty Level: L2\n",
    "\n",
    "# Q. Sort the iris dataset based on sepallength column.\n",
    "\n",
    "\n",
    "# More readable\n",
    "# use name-filed\n",
    "url = 'https://archive.ics.uci.edu/ml/machine-learning-databases/iris/iris.data'\n",
    "names = ('sepallength', 'sepalwidth', 'petallength', 'petalwidth', 'species')\n",
    "dtype=[('sepallength', '<f8'), ('sepalwidth', '<f8'),\n",
    "       ('petallength', '<f8'), ('petalwidth', '<f8')\n",
    "       ,('species', 'object')]\n",
    "\n",
    "iris = np.genfromtxt(url, delimiter=',',names=names,\n",
    "                    dtype = dtype)\n",
    "np.sort(iris, order=['sepallength'])[:5]"
   ]
  },
  {
   "cell_type": "code",
   "execution_count": 48,
   "metadata": {
    "ExecuteTime": {
     "end_time": "2019-12-26T14:23:05.611777Z",
     "start_time": "2019-12-26T14:23:05.597608Z"
    }
   },
   "outputs": [
    {
     "data": {
      "text/plain": [
       "1.5"
      ]
     },
     "execution_count": 48,
     "metadata": {},
     "output_type": "execute_result"
    }
   ],
   "source": [
    "# 45. How to find the most frequent value in a numpy array?\n",
    "# Difficulty Level: L1\n",
    "\n",
    "# Q. Find the most frequent value of petal length (3rd column) in iris dataset.\n",
    "\n",
    "# More readable\n",
    "# name field\n",
    "url = 'https://archive.ics.uci.edu/ml/machine-learning-databases/iris/iris.data'\n",
    "names = ('sepallength', 'sepalwidth', 'petallength', 'petalwidth', 'species')\n",
    "dtype=[('sepallength', '<f8'), ('sepalwidth', '<f8'),\n",
    "       ('petallength', '<f8'), ('petalwidth', '<f8')\n",
    "       ,('species', 'object')]\n",
    "\n",
    "iris = np.genfromtxt(url, delimiter=',',names=names,\n",
    "                    dtype = dtype)\n",
    "\n",
    "vals_arr, counts_arr = np.unique(iris['petallength'], return_counts=True)\n",
    "\n",
    "vals_arr[np.argmax(counts_arr)]\n",
    "\n",
    "# Hint\n",
    "# 函數回傳結果為turple時，\n",
    "# 用兩個變數接收結果"
   ]
  },
  {
   "cell_type": "code",
   "execution_count": 49,
   "metadata": {
    "ExecuteTime": {
     "end_time": "2019-12-26T14:23:05.629370Z",
     "start_time": "2019-12-26T14:23:05.614704Z"
    }
   },
   "outputs": [
    {
     "data": {
      "text/plain": [
       "array([50])"
      ]
     },
     "execution_count": 49,
     "metadata": {},
     "output_type": "execute_result"
    }
   ],
   "source": [
    "# 46. How to find the position of the first occurrence of a value greater than a given value?\n",
    "# Difficulty Level: L2\n",
    "\n",
    "# Q. Find the position of the first occurrence of a value greater than 1.0 in petalwidth 4th column of iris dataset.\n",
    "\n",
    "# More readable\n",
    "url = 'https://archive.ics.uci.edu/ml/machine-learning-databases/iris/iris.data'\n",
    "names = ('sepallength', 'sepalwidth', 'petallength', 'petalwidth', 'species')\n",
    "dtype=[('sepallength', '<f8'), ('sepalwidth', '<f8'),\n",
    "       ('petallength', '<f8'), ('petalwidth', '<f8')\n",
    "       ,('species', 'object')]\n",
    "\n",
    "iris = np.genfromtxt(url, delimiter=',',names=names,\n",
    "                    dtype = dtype)\n",
    "\n",
    "np.argwhere(iris['petalwidth'] > 1.0)[0]"
   ]
  },
  {
   "cell_type": "code",
   "execution_count": 50,
   "metadata": {
    "ExecuteTime": {
     "end_time": "2019-12-26T14:23:05.643154Z",
     "start_time": "2019-12-26T14:23:05.632816Z"
    }
   },
   "outputs": [
    {
     "data": {
      "text/plain": [
       "array([27.62684215, 14.64009987, 21.80136195, 30.        , 10.        ])"
      ]
     },
     "execution_count": 50,
     "metadata": {},
     "output_type": "execute_result"
    }
   ],
   "source": [
    "# 47. How to replace all values greater than a given value to a given cutoff?\n",
    "# Difficulty Level: L2\n",
    "\n",
    "# Q. From the array a, replace all values greater than 30 to 30 and less than 10 to 10.\n",
    "\n",
    "np.random.seed(100)\n",
    "a = np.random.uniform(1,50, 20)\n",
    "\n",
    "# 巢狀np.where\n",
    "# 若 a > 30, 則換成30, 若 < 30, 執行另一函式\n",
    "# 另一函式 : a < 10, 換成 10, 否, 為原本值\n",
    "# 用途廣泛\n",
    "np.where( a > 30, \n",
    "              30, \n",
    "          np.where(a < 10,\n",
    "                       10,\n",
    "                       a))\n",
    "# clip\n",
    "# when to use\n",
    "# 純數字，取中間時\n",
    "np.clip(a, a_min=10, a_max=30)[:5]"
   ]
  },
  {
   "cell_type": "code",
   "execution_count": 51,
   "metadata": {
    "ExecuteTime": {
     "end_time": "2019-12-26T14:23:05.657729Z",
     "start_time": "2019-12-26T14:23:05.646637Z"
    },
    "lines_to_next_cell": 0
   },
   "outputs": [
    {
     "data": {
      "text/plain": [
       "array([18,  7,  3, 10, 15])"
      ]
     },
     "execution_count": 51,
     "metadata": {},
     "output_type": "execute_result"
    }
   ],
   "source": [
    "# 48. How to get the positions of top n values from a numpy array?\n",
    "# Difficulty Level: L2\n",
    "\n",
    "# Q. Get the positions of top 5 maximum values in a given array a.\n",
    "\n",
    "np.random.seed(100)\n",
    "a = np.random.uniform(1,50, 20)\n",
    "\n",
    "np.argsort(a)[-5:]\n",
    "\n",
    "# Hint\n",
    "# 條件 : 找值\n",
    "# np.where 返回整個array的值\n",
    "# np.argwhere 返回index\n",
    "# 排序\n",
    "# np.sort 值排序\n",
    "# np.argsort 值排序，返回index\n",
    "# When to use\n",
    "# Eg. 返回特徵重要度最大的index, 用於取出特徵欄位"
   ]
  },
  {
   "cell_type": "code",
   "execution_count": 52,
   "metadata": {
    "ExecuteTime": {
     "end_time": "2019-12-26T14:23:05.676262Z",
     "start_time": "2019-12-26T14:23:05.661531Z"
    },
    "lines_to_next_cell": 2
   },
   "outputs": [
    {
     "data": {
      "text/plain": [
       "[[1, 0, 2, 1, 1, 1, 0, 2, 2, 0],\n",
       " [2, 1, 3, 0, 1, 0, 1, 0, 1, 1],\n",
       " [0, 3, 0, 2, 3, 1, 0, 1, 0, 0],\n",
       " [1, 0, 2, 1, 0, 1, 0, 2, 1, 2],\n",
       " [2, 2, 2, 0, 0, 1, 1, 1, 1, 0],\n",
       " [1, 1, 1, 1, 1, 2, 0, 0, 2, 1]]"
      ]
     },
     "execution_count": 52,
     "metadata": {},
     "output_type": "execute_result"
    }
   ],
   "source": [
    "# 49. How to compute the row wise counts of all possible values in an array?\n",
    "# Difficulty Level: L4\n",
    "# Q. Compute the counts of unique values row-wise.\n",
    "np.random.seed(100)\n",
    "arr = np.random.randint(1,11,size=(6, 10))\n",
    "\n",
    "# More readable\n",
    "result = np.zeros_like(arr)\n",
    "for row in range(arr.shape[0]):\n",
    "    unq_arr, count_arr = np.unique(arr[row, :], return_counts=True)\n",
    "    result[row, :][unq_arr - 1] = count_arr\n",
    "\n",
    "\n",
    "result.tolist()"
   ]
  },
  {
   "cell_type": "code",
   "execution_count": 53,
   "metadata": {
    "ExecuteTime": {
     "end_time": "2019-12-26T14:23:05.690402Z",
     "start_time": "2019-12-26T14:23:05.679993Z"
    }
   },
   "outputs": [
    {
     "data": {
      "text/plain": [
       "array([0, 1, 2, 3, 4, 5, 6, 7, 8, 9])"
      ]
     },
     "execution_count": 53,
     "metadata": {},
     "output_type": "execute_result"
    }
   ],
   "source": [
    "# 50. How to convert an array of arrays into a flat 1d array?\n",
    "# Difficulty Level: 2\n",
    "\n",
    "# Q. Convert array_of_arrays into a flat linear 1d array.\n",
    "arr1 = np.arange(3)\n",
    "arr2 = np.arange(3,7)\n",
    "arr3 = np.arange(7,10)\n",
    "\n",
    "array_of_arrays = np.array([arr1, arr2, arr3])\n",
    "# More readable\n",
    "np.hstack(array_of_arrays)"
   ]
  },
  {
   "cell_type": "code",
   "execution_count": 54,
   "metadata": {
    "ExecuteTime": {
     "end_time": "2019-12-26T14:23:05.705455Z",
     "start_time": "2019-12-26T14:23:05.693938Z"
    },
    "lines_to_next_cell": 0
   },
   "outputs": [
    {
     "data": {
      "text/plain": [
       "array([[0., 1., 0.],\n",
       "       [0., 0., 1.],\n",
       "       [0., 1., 0.],\n",
       "       [0., 1., 0.],\n",
       "       [0., 1., 0.],\n",
       "       [1., 0., 0.]])"
      ]
     },
     "execution_count": 54,
     "metadata": {},
     "output_type": "execute_result"
    }
   ],
   "source": [
    "# 51. How to generate one-hot encodings for an array in numpy?\n",
    "# Difficulty Level L4\n",
    "\n",
    "# Q. Compute the one-hot encodings (dummy binary variables for each unique value in the array)\n",
    "np.random.seed(101) \n",
    "arr = np.random.randint(1,4, size=6)\n",
    "one_hot_feature = np.unique(arr)\n",
    "one_hot_arr = np.zeros(shape=(arr.shape[0], one_hot_feature.shape[0]))\n",
    "\n",
    "for i, k in enumerate(arr):\n",
    "    one_hot_arr[i, k-1] = 1\n",
    "\n",
    "one_hot_arr"
   ]
  },
  {
   "cell_type": "code",
   "execution_count": 55,
   "metadata": {
    "ExecuteTime": {
     "end_time": "2019-12-26T14:23:05.726212Z",
     "start_time": "2019-12-26T14:23:05.709652Z"
    },
    "lines_to_next_cell": 2
   },
   "outputs": [
    {
     "data": {
      "text/plain": [
       "[0, 1, 2, 3, 4, 0, 1, 2, 3, 4, 5, 0, 1, 2, 3, 4, 5, 6, 7, 8]"
      ]
     },
     "execution_count": 55,
     "metadata": {},
     "output_type": "execute_result"
    }
   ],
   "source": [
    "# 52. How to create row numbers grouped by a categorical variable?\n",
    "# Difficulty Level: L3\n",
    "\n",
    "# Q. Create row numbers grouped by a categorical variable. Use the following sample from iris species as input.\n",
    "\n",
    "\n",
    "species = np.genfromtxt(url, delimiter=',', dtype='str', usecols=4)\n",
    "species_small = np.sort(np.random.choice(species, size=20))\n",
    "species_small\n",
    "\n",
    "np.unique(species_small)\n",
    "\n",
    "# More readable\n",
    "\n",
    "def get_groupby_index(arr):\n",
    "    unq = np.unique(arr)\n",
    "    result = []\n",
    "    for species_item in unq:\n",
    "        filtered_arr = arr[arr == species_item]\n",
    "        for idx in range(len(filtered_arr)):\n",
    "            result.append(idx)\n",
    "    return result\n",
    "\n",
    "get_groupby_index(species_small)"
   ]
  },
  {
   "cell_type": "code",
   "execution_count": 56,
   "metadata": {
    "ExecuteTime": {
     "end_time": "2019-12-26T14:23:05.745794Z",
     "start_time": "2019-12-26T14:23:05.730327Z"
    },
    "lines_to_next_cell": 2
   },
   "outputs": [
    {
     "data": {
      "text/plain": [
       "[0, 0, 0, 0, 0, 0, 1, 1, 1, 1, 1, 1, 2, 2, 2, 2, 2, 2, 2, 2]"
      ]
     },
     "execution_count": 56,
     "metadata": {},
     "output_type": "execute_result"
    }
   ],
   "source": [
    "# 53. How to create groud ids based on a given categorical variable?\n",
    "# Difficulty Level: L4\n",
    "\n",
    "# Q. Create group ids based on a given categorical variable. Use the following sample from iris species as input.\n",
    "\n",
    "url = 'https://archive.ics.uci.edu/ml/machine-learning-databases/iris/iris.data'\n",
    "species = np.genfromtxt(url, delimiter=',', dtype='str', usecols=4)\n",
    "species_small = np.sort(np.random.choice(species, size=20))\n",
    "species_small\n",
    "\n",
    "# More readable\n",
    "\n",
    "def get_groupby_index(arr):\n",
    "    unq = np.unique(arr)\n",
    "    result = []\n",
    "    for group_idx ,species_item in enumerate(unq):\n",
    "        filtered_arr = arr[arr == species_item]\n",
    "        group_idx_list = [group_idx for i in filtered_arr]\n",
    "        result.extend(group_idx_list)\n",
    "    return result\n",
    "\n",
    "get_groupby_index(species_small)"
   ]
  },
  {
   "cell_type": "code",
   "execution_count": 57,
   "metadata": {
    "ExecuteTime": {
     "end_time": "2019-12-26T14:23:05.760151Z",
     "start_time": "2019-12-26T14:23:05.749758Z"
    }
   },
   "outputs": [
    {
     "name": "stdout",
     "output_type": "stream",
     "text": [
      "[ 9  4 15  0 17 16 17  8  9  0]\n"
     ]
    },
    {
     "data": {
      "text/plain": [
       "array([4, 2, 6, 0, 8, 7, 9, 3, 5, 1])"
      ]
     },
     "execution_count": 57,
     "metadata": {},
     "output_type": "execute_result"
    }
   ],
   "source": [
    "# 54. How to rank items in an array using numpy?\n",
    "# Difficulty Level: L2\n",
    "\n",
    "# Q. Create the ranks for the given numeric array a.\n",
    "\n",
    "np.random.seed(10)\n",
    "a = np.random.randint(20, size=10)\n",
    "print(a)\n",
    "a.argsort().argsort()"
   ]
  },
  {
   "cell_type": "code",
   "execution_count": 58,
   "metadata": {
    "ExecuteTime": {
     "end_time": "2019-12-26T14:23:05.772736Z",
     "start_time": "2019-12-26T14:23:05.763691Z"
    }
   },
   "outputs": [
    {
     "name": "stdout",
     "output_type": "stream",
     "text": [
      "[[4 2 6 0 8]\n",
      " [7 9 3 5 1]]\n"
     ]
    }
   ],
   "source": [
    "np.random.seed(10)\n",
    "a = np.random.randint(20, size=[2,5])\n",
    "print(a.ravel().argsort().argsort().reshape(a.shape))"
   ]
  },
  {
   "cell_type": "code",
   "execution_count": 59,
   "metadata": {
    "ExecuteTime": {
     "end_time": "2019-12-26T14:23:05.785609Z",
     "start_time": "2019-12-26T14:23:05.776235Z"
    },
    "lines_to_next_cell": 2
   },
   "outputs": [
    {
     "data": {
      "text/plain": [
       "array([9, 8, 6, 3, 9])"
      ]
     },
     "execution_count": 59,
     "metadata": {},
     "output_type": "execute_result"
    }
   ],
   "source": [
    "# 56. How to find the maximum value in each row of a numpy array 2d?\n",
    "# DifficultyLevel: L2\n",
    "\n",
    "# Q. Compute the maximum for each row in the given array.\n",
    "\n",
    "np.random.seed(100)\n",
    "a = np.random.randint(1,10, [5,3])\n",
    "\n",
    "a.max(axis=1)\n"
   ]
  },
  {
   "cell_type": "code",
   "execution_count": 60,
   "metadata": {
    "ExecuteTime": {
     "end_time": "2019-12-26T14:23:05.800099Z",
     "start_time": "2019-12-26T14:23:05.789465Z"
    },
    "lines_to_next_cell": 2
   },
   "outputs": [
    {
     "data": {
      "text/plain": [
       "array([0.44444444, 0.125     , 0.5       , 1.        , 0.11111111])"
      ]
     },
     "execution_count": 60,
     "metadata": {},
     "output_type": "execute_result"
    }
   ],
   "source": [
    "# 57. How to compute the min-by-max for each row for a numpy array 2d?\n",
    "# DifficultyLevel: L3\n",
    "\n",
    "# Q. Compute the min-by-max for each row for given 2d numpy array.\n",
    "np.random.seed(100)\n",
    "a = np.random.randint(1,10, [5,3])\n",
    "\n",
    "a.min(axis=1) / a.max(axis=1)\n"
   ]
  },
  {
   "cell_type": "code",
   "execution_count": 61,
   "metadata": {
    "ExecuteTime": {
     "end_time": "2019-12-26T14:23:05.815297Z",
     "start_time": "2019-12-26T14:23:05.804106Z"
    },
    "lines_to_next_cell": 0
   },
   "outputs": [
    {
     "name": "stdout",
     "output_type": "stream",
     "text": [
      "Array:  [0 0 3 0 2 4 2 2 2 2]\n",
      "[False  True False  True False False  True  True  True  True]\n"
     ]
    }
   ],
   "source": [
    "# 58. How to find the duplicate records in a numpy array?\n",
    "# Difficulty Level: L3\n",
    "\n",
    "# Q. Find the duplicate entries (2nd occurrence onwards) in the given numpy array and mark them as True. First time occurrences should be False.\n",
    "np.random.seed(100)\n",
    "a = np.random.randint(0, 5, 10)\n",
    "print('Array: ', a)\n",
    "result = np.full(a.shape[0], True)\n",
    "unq, unq_idx = np.unique(a, return_index=True)\n",
    "result[unq_idx] = False\n",
    "print(result)"
   ]
  },
  {
   "cell_type": "code",
   "execution_count": 62,
   "metadata": {
    "ExecuteTime": {
     "end_time": "2019-12-26T14:23:05.837109Z",
     "start_time": "2019-12-26T14:23:05.818872Z"
    }
   },
   "outputs": [
    {
     "data": {
      "text/plain": [
       "[[b'Iris-setosa', 5.006],\n",
       " [b'Iris-versicolor', 5.936],\n",
       " [b'Iris-virginica', 6.587999999999998]]"
      ]
     },
     "execution_count": 62,
     "metadata": {},
     "output_type": "execute_result"
    }
   ],
   "source": [
    "# 59\n",
    "# Difficulty Level L3\n",
    "\n",
    "# Q. Find the mean of a numeric column grouped by a categorical column in a 2D numpy array\n",
    "\n",
    "url = 'https://archive.ics.uci.edu/ml/machine-learning-databases/iris/iris.data'\n",
    "names = ('sepallength', 'sepalwidth', 'petallength', 'petalwidth', 'species')\n",
    "dtype=[('sepallength', '<f8'), ('sepalwidth', '<f8'),\n",
    "       ('petallength', '<f8'), ('petalwidth', '<f8')\n",
    "       ,('species', 'object')]\n",
    "\n",
    "iris = np.genfromtxt(url, delimiter=',',names=names,\n",
    "                    dtype = dtype)\n",
    "\n",
    "# More readable\n",
    "def groupby_numpy_mean(arr, by, caculate_col):\n",
    "    uniuqe_species = np.unique(iris[by])\n",
    "    result = []\n",
    "    for unq in uniuqe_species:\n",
    "        unq_mean = iris[iris[by] == unq][caculate_col].mean()\n",
    "        result.append(\n",
    "        [unq, unq_mean]\n",
    "        )\n",
    "    return result\n",
    "\n",
    "groupby_numpy_mean(iris, by='species', caculate_col='sepallength')"
   ]
  },
  {
   "cell_type": "code",
   "execution_count": 63,
   "metadata": {
    "ExecuteTime": {
     "end_time": "2019-12-26T14:23:06.781444Z",
     "start_time": "2019-12-26T14:23:05.841073Z"
    },
    "lines_to_next_cell": 2
   },
   "outputs": [
    {
     "name": "stdout",
     "output_type": "stream",
     "text": [
      "(303, 452, 3)\n"
     ]
    }
   ],
   "source": [
    "# 60. How to convert a PIL image to numpy array?\n",
    "# Difficulty Level: L3\n",
    "\n",
    "# Q. Import the image from the following URL and convert it to a numpy array.\n",
    "\n",
    "URL = 'https://upload.wikimedia.org/wikipedia/commons/8/8b/Denali_Mt_McKinley.jpg'\n",
    "from PIL import Image\n",
    "import requests\n",
    "from io import BytesIO\n",
    "response = requests.get(URL)\n",
    "image = Image.open(BytesIO(response.content))\n",
    "image_arr = np.array(image)\n",
    "print(image_arr.shape)\n",
    "\n",
    "# Optionaly Convert it back to an image and show\n",
    "# im = PIL.Image.fromarray(np.uint8(arr))\n",
    "# Image.Image.show(im)\n"
   ]
  },
  {
   "cell_type": "code",
   "execution_count": 64,
   "metadata": {
    "ExecuteTime": {
     "end_time": "2019-12-26T14:23:06.796344Z",
     "start_time": "2019-12-26T14:23:06.784867Z"
    }
   },
   "outputs": [
    {
     "data": {
      "text/plain": [
       "array([1., 2., 3., 5., 6., 7.])"
      ]
     },
     "execution_count": 64,
     "metadata": {},
     "output_type": "execute_result"
    }
   ],
   "source": [
    "# 61. How to drop all missing values from a numpy array?\n",
    "# Difficulty Level: L2\n",
    "\n",
    "# Q. Drop all nan values from a 1D numpy array\n",
    "\n",
    "arr = np.array([1,2,3,np.nan,5,6,7,np.nan])\n",
    "arr[~ np.isnan(arr)]"
   ]
  },
  {
   "cell_type": "code",
   "execution_count": 65,
   "metadata": {
    "ExecuteTime": {
     "end_time": "2019-12-26T14:23:07.047663Z",
     "start_time": "2019-12-26T14:23:06.799409Z"
    }
   },
   "outputs": [
    {
     "data": {
      "text/plain": [
       "array([[6.70820393]])"
      ]
     },
     "execution_count": 65,
     "metadata": {},
     "output_type": "execute_result"
    }
   ],
   "source": [
    "# 62. How to compute the euclidean distance between two arrays?\n",
    "# Difficulty Level: L3\n",
    "\n",
    "# Q. Compute the euclidean distance between two arrays a and b.\n",
    "\n",
    "a = np.array([1,2,3,4,5])\n",
    "b = np.array([4,5,6,7,8])\n",
    "a = a.reshape(1, -1)\n",
    "b = b.reshape(1, -1)\n",
    "from scipy.spatial.distance import cdist as dist\n",
    "dist(a,b, metric='euclidean')"
   ]
  },
  {
   "cell_type": "code",
   "execution_count": 66,
   "metadata": {
    "ExecuteTime": {
     "end_time": "2019-12-26T14:23:08.100455Z",
     "start_time": "2019-12-26T14:23:07.051278Z"
    }
   },
   "outputs": [
    {
     "name": "stderr",
     "output_type": "stream",
     "text": [
      "/Users/longlong/.pyenv/versions/3.6.5/lib/python3.6/site-packages/ipykernel_launcher.py:16: RuntimeWarning: invalid value encountered in greater\n",
      "  app.launch_new_instance()\n"
     ]
    },
    {
     "data": {
      "text/plain": [
       "array([2, 5])"
      ]
     },
     "execution_count": 66,
     "metadata": {},
     "output_type": "execute_result"
    }
   ],
   "source": [
    "# 63. How to find all the local maxima (or peaks) in a 1d array?\n",
    "# Difficulty Level: L4\n",
    "\n",
    "# Q. Find all the peaks in a 1D numpy array a. Peaks are points surrounded by smaller values on both sides.\n",
    "\n",
    "a = np.array([1, 3, 7, 1, 2, 6, 0, 1])\n",
    "\n",
    "\n",
    "# More readable\n",
    "def get_peak(arr, forward_diff,back_diff):\n",
    "    def get_backword(arr, back_diff):\n",
    "        import pandas as pd \n",
    "        return pd.Series(arr).diff(-1).values\n",
    "    forward = np.sign(np.diff(a, n=forward_diff, prepend=np.nan) )\n",
    "    backward = np.sign(get_backword(arr, back_diff))\n",
    "    return np.argwhere((forward > 0) & (backward > 0)).reshape(-1)\n",
    "    \n",
    "peak_pos = get_peak(a, forward_diff=1, back_diff=1)\n",
    "peak_pos"
   ]
  },
  {
   "cell_type": "code",
   "execution_count": 67,
   "metadata": {
    "ExecuteTime": {
     "end_time": "2019-12-26T14:23:08.125536Z",
     "start_time": "2019-12-26T14:23:08.114986Z"
    },
    "lines_to_next_cell": 2
   },
   "outputs": [
    {
     "data": {
      "text/plain": [
       "array([[2, 2, 2],\n",
       "       [3, 3, 3],\n",
       "       [4, 4, 4]])"
      ]
     },
     "execution_count": 67,
     "metadata": {},
     "output_type": "execute_result"
    }
   ],
   "source": [
    "# 64. How to subtract a 1d array from a 2d array, where each item of 1d array subtracts from respective row?\n",
    "# Difficulty Level: L2\n",
    "\n",
    "# Q. Subtract the 1d array b_1d from the 2d array a_2d, such that each item of b_1d subtracts from respective row of a_2d.\n",
    "\n",
    "a_2d = np.array([[3,3,3],[4,4,4],[5,5,5]])\n",
    "b_1d = np.array([1,1,1])\n",
    "a_2d - b_1d\n"
   ]
  },
  {
   "cell_type": "code",
   "execution_count": 68,
   "metadata": {
    "ExecuteTime": {
     "end_time": "2019-12-26T14:23:08.145681Z",
     "start_time": "2019-12-26T14:23:08.129908Z"
    }
   },
   "outputs": [
    {
     "data": {
      "text/plain": [
       "array([4])"
      ]
     },
     "execution_count": 68,
     "metadata": {},
     "output_type": "execute_result"
    }
   ],
   "source": [
    "# 65. How to find the index of n'th repetition of an item in an array\n",
    "# Difficulty Level L2\n",
    "\n",
    "x = np.array([1, 2, 1, 1, 3, 4, 3, 1, 1, 2, 1, 1, 2])\n",
    "\n",
    "def get_n_repetition_idx(arr, value, capture):\n",
    "    tmp = x.copy()\n",
    "    value_repetition = np.cumsum(x[x == value])\n",
    "    result = np.argwhere(value_repetition == capture).reshape(-1)\n",
    "    return result\n",
    "get_n_repetition_idx(x, 1, 5)"
   ]
  },
  {
   "cell_type": "code",
   "execution_count": 69,
   "metadata": {
    "ExecuteTime": {
     "end_time": "2019-12-26T14:23:08.159426Z",
     "start_time": "2019-12-26T14:23:08.148789Z"
    },
    "lines_to_next_cell": 2
   },
   "outputs": [
    {
     "data": {
      "text/plain": [
       "datetime.datetime(2018, 2, 25, 22, 10, 10)"
      ]
     },
     "execution_count": 69,
     "metadata": {},
     "output_type": "execute_result"
    }
   ],
   "source": [
    "# 66. How to convert numpy's datetime64 object to datetime's datetime object?\n",
    "# Difficulty Level: L2\n",
    "\n",
    "# Q. Convert numpy's datetime64 object to datetime's datetime object\n",
    "from datetime import datetime\n",
    "dt64 = np.datetime64('2018-02-25 22:10:10')\n",
    "dt64.astype(datetime)\n",
    "\n",
    "# Hint\n",
    "# 使用 print(dir(dt64)) 來找出可使用的方法及屬性\n",
    "# datetime物件經常是很麻煩的處理, numpy的documentation可以在這裡找到\n",
    "# https://docs.scipy.org/doc/numpy-1.15.0/reference/arrays.datetime.html"
   ]
  },
  {
   "cell_type": "code",
   "execution_count": 70,
   "metadata": {
    "ExecuteTime": {
     "end_time": "2019-12-26T14:23:08.176441Z",
     "start_time": "2019-12-26T14:23:08.163609Z"
    }
   },
   "outputs": [
    {
     "data": {
      "text/plain": [
       "array([8. , 5.5, 5. , 7. , 3.5, 2. , 3. , 3.5])"
      ]
     },
     "execution_count": 70,
     "metadata": {},
     "output_type": "execute_result"
    }
   ],
   "source": [
    "# 67. How to compute the moving average of a numpy array?\n",
    "# Difficulty Level: L3\n",
    "\n",
    "# Q. Compute the moving average of window size 3, for the given 1D array.\n",
    "\n",
    "np.random.seed(100)\n",
    "Z = np.random.randint(10, size=10)\n",
    "\n",
    "# more readable\n",
    "def moving_average(arr, window):\n",
    "    result = np.array([])\n",
    "    for idx in range(arr.shape[0] - window):\n",
    "        span = np.arange(idx, idx + window)\n",
    "        result = np.append(result, arr[span].mean())\n",
    "    return result\n",
    "moving_average(Z, window=2)"
   ]
  },
  {
   "cell_type": "code",
   "execution_count": 71,
   "metadata": {
    "ExecuteTime": {
     "end_time": "2019-12-26T14:23:08.190332Z",
     "start_time": "2019-12-26T14:23:08.180387Z"
    }
   },
   "outputs": [
    {
     "data": {
      "text/plain": [
       "array([ 5.,  8., 11., 14., 17., 20., 23., 26., 29., 32.])"
      ]
     },
     "execution_count": 71,
     "metadata": {},
     "output_type": "execute_result"
    }
   ],
   "source": [
    "# 68. How to create a numpy array sequence given only the starting point, length and the step?\n",
    "# Difficulty Level: L2\n",
    "# Q. Create a numpy array of length 10, starting from 5 and has a step of 3 between consecutive numbers\n",
    "\n",
    "def generatre_arr(start, step, length):\n",
    "    stop = start + step*(length-1)\n",
    "    return np.linspace(start=5, stop=stop, num=10)\n",
    "\n",
    "generatre_arr(start=5, step=3, length=10)"
   ]
  },
  {
   "cell_type": "code",
   "execution_count": 72,
   "metadata": {
    "ExecuteTime": {
     "end_time": "2019-12-26T14:23:08.221474Z",
     "start_time": "2019-12-26T14:23:08.194413Z"
    }
   },
   "outputs": [
    {
     "name": "stdout",
     "output_type": "stream",
     "text": [
      "['2018-02-01T00:00:00.000000000' '2018-02-02T00:00:00.000000000'\n",
      " '2018-02-03T00:00:00.000000000' '2018-02-04T00:00:00.000000000'\n",
      " '2018-02-05T00:00:00.000000000' '2018-02-06T00:00:00.000000000'\n",
      " '2018-02-07T00:00:00.000000000' '2018-02-08T00:00:00.000000000'\n",
      " '2018-02-09T00:00:00.000000000' '2018-02-10T00:00:00.000000000'\n",
      " '2018-02-11T00:00:00.000000000' '2018-02-12T00:00:00.000000000'\n",
      " '2018-02-13T00:00:00.000000000' '2018-02-14T00:00:00.000000000'\n",
      " '2018-02-15T00:00:00.000000000' '2018-02-16T00:00:00.000000000'\n",
      " '2018-02-17T00:00:00.000000000' '2018-02-18T00:00:00.000000000'\n",
      " '2018-02-19T00:00:00.000000000' '2018-02-20T00:00:00.000000000'\n",
      " '2018-02-21T00:00:00.000000000' '2018-02-22T00:00:00.000000000'\n",
      " '2018-02-23T00:00:00.000000000']\n",
      "['2018-02-01' '2018-02-02' '2018-02-03' '2018-02-04' '2018-02-05'\n",
      " '2018-02-06' '2018-02-07' '2018-02-08' '2018-02-09' '2018-02-10'\n",
      " '2018-02-11' '2018-02-12' '2018-02-13' '2018-02-14' '2018-02-15'\n",
      " '2018-02-16' '2018-02-17' '2018-02-18' '2018-02-19' '2018-02-20'\n",
      " '2018-02-21' '2018-02-22' '2018-02-23']\n"
     ]
    }
   ],
   "source": [
    "# 69. How to fill in missing dates in an irregular series of numpy dates?\n",
    "# Difficulty Level: L3\n",
    "\n",
    "# Q. Given an array of a non-continuous sequence of dates. Make it a continuous sequence of dates, by filling in the missing dates.\n",
    "dates = np.arange(np.datetime64('2018-02-01'), np.datetime64('2018-02-25'), 2)\n",
    "\n",
    "import pandas as pd\n",
    "start, end = dates[0], dates[-1]\n",
    "pidx = pd.period_range(start=start, end=end, freq='D')\n",
    "result = pidx.astype(np.datetime64).values\n",
    "print(result)\n",
    "\n",
    "# sol2\n",
    "\n",
    "result = np.arange(np.datetime64('2018-02-01'), np.datetime64('2018-02-24'), 1)\n",
    "print(result)"
   ]
  },
  {
   "cell_type": "code",
   "execution_count": 73,
   "metadata": {
    "ExecuteTime": {
     "end_time": "2019-12-26T14:23:08.237120Z",
     "start_time": "2019-12-26T14:23:08.226337Z"
    }
   },
   "outputs": [
    {
     "data": {
      "text/plain": [
       "[[0, 1, 2, 3],\n",
       " [2, 3, 4, 5],\n",
       " [4, 5, 6, 7],\n",
       " [6, 7, 8, 9],\n",
       " [8, 9, 10, 11],\n",
       " [10, 11, 12, 13]]"
      ]
     },
     "execution_count": 73,
     "metadata": {},
     "output_type": "execute_result"
    }
   ],
   "source": [
    "# 70. How to create strides from a given 1D array?\n",
    "# Difficulty Level: L4\n",
    "\n",
    "# Q. From the given 1d array arr, generate a 2d matrix using strides, with a window length of 4 and strides of 2, like [[0,1,2,3], [2,3,4,5], [4,5,6,7]..]\n",
    "arr = np.arange(15) \n",
    "arr\n",
    "\n",
    "# More readable\n",
    "def get_strides(arr, window_length, strides):\n",
    "    result = []\n",
    "    end_point_head_idx = len(arr) - window_length\n",
    "    for head_idx in range(0, end_point_head_idx, strides):\n",
    "        idx_arr = np.arange(0 + head_idx, head_idx + window_length)\n",
    "        result.append(arr[idx_arr].tolist())\n",
    "    return result\n",
    "\n",
    "get_strides(arr, window_length=4, strides=2)"
   ]
  },
  {
   "cell_type": "markdown",
   "metadata": {},
   "source": [
    "# Further reading \n",
    "\n",
    "* NumPy 高速運算徹底解說 \n",
    "\n",
    "## Outline\n",
    "\n",
    "Ch04 NumPy 的實務應用\n",
    "\n",
    "4-1 資料的正規化 (Normalization)\n",
    "\n",
    "4-1-1 z 分數正規化\n",
    "\n",
    "4-1-2 最小值 - 最大值正規化\n",
    "\n",
    "4-2 迴歸分析實作\n",
    "\n",
    "4-2-1 迴歸概念解說 (簡單線性迴歸、多項式迴歸)\n",
    "\n",
    "4-2-2 Step1：建立 20 個 (x, y) 組合的座標點\n",
    "\n",
    "4-2-3 Step2：餵資料給機器學習, 求出能逼近 20 個點的迴歸方程式\n",
    "\n",
    "4-2-4 Step3：完成學習, 驗證結果\n",
    "\n",
    "\n",
    "4-3 機器學習實戰 (一)：使用神經網路替鳶尾花分類\n",
    "\n",
    "4-3-1 神經網路的基本概念 (神經元、啟動函數、損失函數)\n",
    "\n",
    "4-3-2 Step1：備妥訓練所需的資料\n",
    "資料預處理\n",
    "將資料集拆分為「訓練資料集」與「測試資料集」\n",
    "\n",
    "4-3-3 Step2：開始訓練神經網路\n",
    "訓練神經網路\n",
    "更新權重\n",
    "進入下一週期的訓練、更新權重\n",
    "\n",
    "4-3-4 Step3：完成訓練, 驗證結果\n",
    "\n",
    "4-4 機器學習實戰 (二)：使用神經網路辨識手寫數字圖片\n",
    "\n",
    "4-4-1 多層神經網路的概念\n",
    "\n",
    "4-4-2 Step1：備妥訓練所需的資料\n",
    "\n",
    "4-4-3 Step2：開始訓練神經網路\n",
    "了解反向傳播之前要先了解前向傳播 \n",
    "以計算圖呈現損失函數 L 的算式\n",
    "利用「反向傳播」求損失函數 L 對各權重的偏微分\n",
    "開始訓練神經網路\n",
    "\n",
    "4-4-4 Step3：完成訓練, 驗證結果\n",
    "\n",
    "4-5 使用 NumPy 實作強化學習\n",
    "\n",
    "4-5-1 OpenAI Gym 是什麼\n",
    "\n",
    "4-5-2 安裝與執行遊戲\n",
    "\n",
    "4-5-3 用 Q-Learning 實作強化學習\n",
    "\n",
    "4-5-4 增進 Q-Learning 的學習成效\n",
    "\n",
    "4-5-5 策略梯度法"
   ]
  },
  {
   "cell_type": "code",
   "execution_count": null,
   "metadata": {},
   "outputs": [],
   "source": []
  }
 ],
 "metadata": {
  "jupytext": {
   "encoding": "# -*- coding: utf-8 -*-",
   "formats": "ipynb,py:light"
  },
  "kernelspec": {
   "display_name": "Python 3",
   "language": "python",
   "name": "python3"
  },
  "language_info": {
   "codemirror_mode": {
    "name": "ipython",
    "version": 3
   },
   "file_extension": ".py",
   "mimetype": "text/x-python",
   "name": "python",
   "nbconvert_exporter": "python",
   "pygments_lexer": "ipython3",
   "version": "3.6.5"
  },
  "toc": {
   "base_numbering": 1,
   "nav_menu": {},
   "number_sections": true,
   "sideBar": true,
   "skip_h1_title": false,
   "title_cell": "Table of Contents",
   "title_sidebar": "Contents",
   "toc_cell": false,
   "toc_position": {},
   "toc_section_display": true,
   "toc_window_display": false
  }
 },
 "nbformat": 4,
 "nbformat_minor": 2
}
