{
 "cells": [
  {
   "cell_type": "markdown",
   "metadata": {},
   "source": [
    "## There are alternative solution and hits: \n",
    "### more readable\n",
    " > 26, 27, 38\n",
    "### more effient (vectorlized)\n",
    " > 40\n",
    " ### when to use it?\n",
    " > 9, 15, 16\n",
    " ### hints\n",
    " > 5, 7, 20, 21, 24, 30, 40, 42"
   ]
  },
  {
   "cell_type": "code",
   "execution_count": 1,
   "metadata": {
    "ExecuteTime": {
     "end_time": "2019-08-05T13:19:24.081977Z",
     "start_time": "2019-08-05T13:19:23.938408Z"
    }
   },
   "outputs": [],
   "source": [
    "import numpy as np\n",
    "np.random.seed(seed=42)"
   ]
  },
  {
   "cell_type": "code",
   "execution_count": 2,
   "metadata": {
    "ExecuteTime": {
     "end_time": "2019-08-05T13:19:24.111136Z",
     "start_time": "2019-08-05T13:19:24.085974Z"
    }
   },
   "outputs": [
    {
     "data": {
      "text/plain": [
       "'1.16.4'"
      ]
     },
     "execution_count": 2,
     "metadata": {},
     "output_type": "execute_result"
    }
   ],
   "source": [
    "# 1. Import numpy as np and see the version\n",
    "# Difficulty Level: L1\n",
    "\n",
    "# Q. Import numpy as `np` and print the version number.\n",
    "\n",
    "np.__version__"
   ]
  },
  {
   "cell_type": "code",
   "execution_count": 3,
   "metadata": {
    "ExecuteTime": {
     "end_time": "2019-08-05T13:19:24.126460Z",
     "start_time": "2019-08-05T13:19:24.117156Z"
    }
   },
   "outputs": [
    {
     "data": {
      "text/plain": [
       "array([0, 1, 2, 3, 4, 5, 6, 7, 8, 9])"
      ]
     },
     "execution_count": 3,
     "metadata": {},
     "output_type": "execute_result"
    }
   ],
   "source": [
    "# 2. How to create a 1D array?\n",
    "# Difficulty Level: L1\n",
    "\n",
    "# Q. Create a 1D array of numbers from 0 to 9\n",
    "\n",
    "np.arange(10)"
   ]
  },
  {
   "cell_type": "code",
   "execution_count": 4,
   "metadata": {
    "ExecuteTime": {
     "end_time": "2019-08-05T13:19:24.141498Z",
     "start_time": "2019-08-05T13:19:24.131859Z"
    }
   },
   "outputs": [
    {
     "data": {
      "text/plain": [
       "array([[ True,  True,  True],\n",
       "       [ True,  True,  True],\n",
       "       [ True,  True,  True]])"
      ]
     },
     "execution_count": 4,
     "metadata": {},
     "output_type": "execute_result"
    }
   ],
   "source": [
    "# 3. How to create a boolean array?\n",
    "# Difficulty Level: L1\n",
    "\n",
    "# Q. Create a 3×3 numpy array of all True’s\n",
    "\n",
    "np.full((3,3), True)"
   ]
  },
  {
   "cell_type": "code",
   "execution_count": 5,
   "metadata": {
    "ExecuteTime": {
     "end_time": "2019-08-05T13:19:24.154729Z",
     "start_time": "2019-08-05T13:19:24.145090Z"
    }
   },
   "outputs": [
    {
     "data": {
      "text/plain": [
       "array([1, 3, 5, 7, 9])"
      ]
     },
     "execution_count": 5,
     "metadata": {},
     "output_type": "execute_result"
    }
   ],
   "source": [
    "# 4. How to extract items that satisfy a given condition from 1D array?\n",
    "# Difficulty Level: L1\n",
    "\n",
    "# Q. Extract all odd numbers from arr\n",
    "arr = np.array([0, 1, 2, 3, 4, 5, 6, 7, 8, 9])\n",
    "\n",
    "condintion = arr % 2 == 1\n",
    "arr[condintion]"
   ]
  },
  {
   "cell_type": "code",
   "execution_count": 6,
   "metadata": {
    "ExecuteTime": {
     "end_time": "2019-08-05T13:19:24.168469Z",
     "start_time": "2019-08-05T13:19:24.158208Z"
    },
    "lines_to_next_cell": 2
   },
   "outputs": [
    {
     "data": {
      "text/plain": [
       "array([ 0, -1,  2, -1,  4, -1,  6, -1,  8, -1])"
      ]
     },
     "execution_count": 6,
     "metadata": {},
     "output_type": "execute_result"
    }
   ],
   "source": [
    "# 5. How to replace items that satisfy a condition with another value in numpy array?\n",
    "# Difficulty Level: L1\n",
    "\n",
    "# Q. Replace all odd numbers in arr with -1\n",
    "\n",
    "arr = np.array([0, 1, 2, 3, 4, 5, 6, 7, 8, 9])\n",
    "\n",
    "np.where(arr % 2 == 1, -1, arr)\n",
    "\n",
    "# Hint\n",
    "# 4,5題比較，如果只想要部分符合條件的結果 - 用 boolean array\n",
    "# 如果想要整個array的結果, 符合與不符合分別map到不同的值 - 用 np.where\n",
    "# When to use\n",
    "# Feature engineering, 根據條件來變更array的值, 非常常用"
   ]
  },
  {
   "cell_type": "code",
   "execution_count": 7,
   "metadata": {
    "ExecuteTime": {
     "end_time": "2019-08-05T13:19:24.184588Z",
     "start_time": "2019-08-05T13:19:24.174085Z"
    }
   },
   "outputs": [
    {
     "name": "stdout",
     "output_type": "stream",
     "text": [
      "[0 1 2 3 4 5 6 7 8 9]\n",
      "[ 0 -1  2 -1  4 -1  6 -1  8 -1]\n"
     ]
    }
   ],
   "source": [
    "# 6. How to replace items that satisfy a condition without affecting the original array?\n",
    "# Difficulty Level: L2\n",
    "# Q. Replace all odd numbers in arr with -1 without changing arr\n",
    "\n",
    "arr = np.array([0, 1, 2, 3, 4, 5, 6, 7, 8, 9])\n",
    "\n",
    "result = np.where(arr % 2 == 1, -1, arr)\n",
    "print(arr, result, sep='\\n')"
   ]
  },
  {
   "cell_type": "code",
   "execution_count": 8,
   "metadata": {
    "ExecuteTime": {
     "end_time": "2019-08-05T13:19:24.197777Z",
     "start_time": "2019-08-05T13:19:24.188860Z"
    }
   },
   "outputs": [
    {
     "data": {
      "text/plain": [
       "array([[0, 1, 2, 3, 4],\n",
       "       [5, 6, 7, 8, 9]])"
      ]
     },
     "execution_count": 8,
     "metadata": {},
     "output_type": "execute_result"
    }
   ],
   "source": [
    "# 7. How to reshape an array?\n",
    "# Difficulty Level: L1\n",
    "\n",
    "# Q. Convert a 1D array to a 2D array with 2 rows\n",
    "\n",
    "arr = np.arange(10)\n",
    "\n",
    "arr.reshape(2, -1)\n",
    "\n",
    "# hint \n",
    "# -1 表示剩餘的行/列可以被決定 在此例中，我們已經決定rows = 2\n",
    "# 則 columns 為 10 / 2 = 5"
   ]
  },
  {
   "cell_type": "code",
   "execution_count": 9,
   "metadata": {
    "ExecuteTime": {
     "end_time": "2019-08-05T13:19:24.212033Z",
     "start_time": "2019-08-05T13:19:24.201318Z"
    }
   },
   "outputs": [
    {
     "data": {
      "text/plain": [
       "array([[0, 1, 2, 3, 4],\n",
       "       [5, 6, 7, 8, 9],\n",
       "       [1, 1, 1, 1, 1],\n",
       "       [1, 1, 1, 1, 1]])"
      ]
     },
     "execution_count": 9,
     "metadata": {},
     "output_type": "execute_result"
    }
   ],
   "source": [
    "# 8. How to stack two arrays vertically?\n",
    "# Difficulty Level: L2\n",
    "\n",
    "# Q. Stack arrays a and b vertically\n",
    "\n",
    "a = np.arange(10).reshape(2,-1)\n",
    "b = np.repeat(1, 10).reshape(2,-1)\n",
    "\n",
    "np.vstack([a, b])"
   ]
  },
  {
   "cell_type": "code",
   "execution_count": 10,
   "metadata": {
    "ExecuteTime": {
     "end_time": "2019-08-05T13:19:24.229873Z",
     "start_time": "2019-08-05T13:19:24.216382Z"
    }
   },
   "outputs": [
    {
     "data": {
      "text/plain": [
       "array([[0, 1, 2, 3, 4, 1, 1, 1, 1, 1],\n",
       "       [5, 6, 7, 8, 9, 1, 1, 1, 1, 1]])"
      ]
     },
     "execution_count": 10,
     "metadata": {},
     "output_type": "execute_result"
    }
   ],
   "source": [
    "# 9. How to stack two arrays horizontally?\n",
    "# Difficulty Level: L2\n",
    "\n",
    "# Q. Stack the arrays a and b horizontally.\n",
    "\n",
    "a = np.arange(10).reshape(2,-1)\n",
    "\n",
    "b = np.repeat(1, 10).reshape(2,-1)\n",
    "\n",
    "np.hstack([a, b])\n",
    "\n",
    "# when to use?\n",
    "# 在迴圈中，例如Cross-validation, 做陣列操作, 例如合併特徵重要度,\n",
    "# 或是拼接特徵"
   ]
  },
  {
   "cell_type": "code",
   "execution_count": 11,
   "metadata": {
    "ExecuteTime": {
     "end_time": "2019-08-05T13:19:24.245137Z",
     "start_time": "2019-08-05T13:19:24.234583Z"
    }
   },
   "outputs": [
    {
     "data": {
      "text/plain": [
       "array([1, 1, 1, 2, 2, 2, 3, 3, 3, 1, 2, 3, 1, 2, 3])"
      ]
     },
     "execution_count": 11,
     "metadata": {},
     "output_type": "execute_result"
    }
   ],
   "source": [
    "# 10. How to generate custom sequences in numpy without hardcoding?\n",
    "# Difficulty Level: L2\n",
    "\n",
    "# Q. Create the following pattern without hardcoding. Use only numpy functions and the below input array a.\n",
    "\n",
    "a = np.array([1,2,3])\n",
    "\n",
    "result = np.hstack([np.repeat(a, 3),\n",
    "                    np.tile(a, 2)])\n",
    "result"
   ]
  },
  {
   "cell_type": "code",
   "execution_count": 12,
   "metadata": {
    "ExecuteTime": {
     "end_time": "2019-08-05T13:19:24.268363Z",
     "start_time": "2019-08-05T13:19:24.250523Z"
    }
   },
   "outputs": [
    {
     "data": {
      "text/plain": [
       "array([2, 4])"
      ]
     },
     "execution_count": 12,
     "metadata": {},
     "output_type": "execute_result"
    }
   ],
   "source": [
    "# 11. How to get the common items between two python numpy arrays?\n",
    "# Difficulty Level: L2\n",
    "\n",
    "# Q. Get the common items between a and b\n",
    "\n",
    "a = np.array([1,2,3,2,3,4,3,4,5,6])\n",
    "b = np.array([7,2,10,2,7,4,9,4,9,8])\n",
    "\n",
    "np.intersect1d(a, b)"
   ]
  },
  {
   "cell_type": "code",
   "execution_count": 13,
   "metadata": {
    "ExecuteTime": {
     "end_time": "2019-08-05T13:19:24.292154Z",
     "start_time": "2019-08-05T13:19:24.272796Z"
    },
    "lines_to_next_cell": 2
   },
   "outputs": [
    {
     "data": {
      "text/plain": [
       "array([ 7, 10,  7,  9,  9,  8])"
      ]
     },
     "execution_count": 13,
     "metadata": {},
     "output_type": "execute_result"
    }
   ],
   "source": [
    "# 12. How to remove from one array those items that exist in another?\n",
    "# Difficulty Level: L2\n",
    "\n",
    "# Q. From array a remove all items present in array b\n",
    "\n",
    "a = np.array([1,2,3,2,3,4,3,4,5,6])\n",
    "b = np.array([7,2,10,2,7,4,9,4,9,8])\n",
    "\n",
    "intersect = np.intersect1d(a, b)\n",
    "b[~np.isin(b, a)]"
   ]
  },
  {
   "cell_type": "code",
   "execution_count": 14,
   "metadata": {
    "ExecuteTime": {
     "end_time": "2019-08-05T13:19:24.317407Z",
     "start_time": "2019-08-05T13:19:24.299861Z"
    }
   },
   "outputs": [
    {
     "data": {
      "text/plain": [
       "array([1, 3, 5, 7])"
      ]
     },
     "execution_count": 14,
     "metadata": {},
     "output_type": "execute_result"
    }
   ],
   "source": [
    "# 13. How to get the positions where elements of two arrays match?\n",
    "# Difficulty Level: L2\n",
    "a = np.array([1,2,3,2,3,4,3,4,5,6])\n",
    "b = np.array([7,2,10,2,7,4,9,4,9,8])\n",
    "\n",
    "np.argwhere(a==b).reshape(-1)"
   ]
  },
  {
   "cell_type": "code",
   "execution_count": 15,
   "metadata": {
    "ExecuteTime": {
     "end_time": "2019-08-05T13:19:24.336970Z",
     "start_time": "2019-08-05T13:19:24.322826Z"
    }
   },
   "outputs": [
    {
     "data": {
      "text/plain": [
       "array([ 6,  9, 10])"
      ]
     },
     "execution_count": 15,
     "metadata": {},
     "output_type": "execute_result"
    }
   ],
   "source": [
    "# 14. How to extract all numbers between a given range from a numpy array?\n",
    "# Difficulty Level: L2\n",
    "a = np.array([2, 6, 1, 9, 10, 3, 27])\n",
    "\n",
    "idx = np.argwhere((5 <= a) & (a<=10)).reshape(-1)\n",
    "a[idx]"
   ]
  },
  {
   "cell_type": "code",
   "execution_count": 16,
   "metadata": {
    "ExecuteTime": {
     "end_time": "2019-08-05T13:19:24.355231Z",
     "start_time": "2019-08-05T13:19:24.340816Z"
    }
   },
   "outputs": [
    {
     "data": {
      "text/plain": [
       "array([6, 7, 9, 8, 9, 7, 5])"
      ]
     },
     "execution_count": 16,
     "metadata": {},
     "output_type": "execute_result"
    }
   ],
   "source": [
    "# 15. How to make a python function that handles scalars to work on numpy arrays?\n",
    "# Difficulty Level: L2\n",
    "def maxx(x, y):\n",
    "    \"\"\"Get the maximum of two items\"\"\"\n",
    "    if x >= y:\n",
    "        return x\n",
    "    else:\n",
    "        return y\n",
    "v_maxx = np.vectorize(maxx, otypes=[int])\n",
    "\n",
    "# when to use\n",
    "# you want faster speed but no np function suit your case\n",
    "# then define it, vectorlize it\n",
    "a = np.array([5, 7, 9, 8, 6, 4, 5])\n",
    "b = np.array([6, 3, 4, 8, 9, 7, 1])\n",
    "v_maxx(a, b)"
   ]
  },
  {
   "cell_type": "code",
   "execution_count": 17,
   "metadata": {
    "ExecuteTime": {
     "end_time": "2019-08-05T13:19:24.371947Z",
     "start_time": "2019-08-05T13:19:24.359827Z"
    }
   },
   "outputs": [
    {
     "data": {
      "text/plain": [
       "array([[1, 0, 2],\n",
       "       [4, 3, 5],\n",
       "       [7, 6, 8]])"
      ]
     },
     "execution_count": 17,
     "metadata": {},
     "output_type": "execute_result"
    }
   ],
   "source": [
    "# 16. How to swap two columns in a 2d numpy array?\n",
    "# Difficulty Level: L2\n",
    "arr = np.arange(9).reshape(3,3)\n",
    "# when to use\n",
    "# change your feature values if they are numpy.array\n",
    "arr[:, [1,0,2]]"
   ]
  },
  {
   "cell_type": "code",
   "execution_count": 18,
   "metadata": {
    "ExecuteTime": {
     "end_time": "2019-08-05T13:19:24.391894Z",
     "start_time": "2019-08-05T13:19:24.375249Z"
    }
   },
   "outputs": [
    {
     "data": {
      "text/plain": [
       "array([[3, 4, 5],\n",
       "       [0, 1, 2],\n",
       "       [6, 7, 8]])"
      ]
     },
     "execution_count": 18,
     "metadata": {},
     "output_type": "execute_result"
    }
   ],
   "source": [
    "# 17. How to swap two rows in a 2d numpy array?\n",
    "# Difficulty Level: L2\n",
    "arr = np.arange(9).reshape(3,3)\n",
    "arr[[1,0,2], :]"
   ]
  },
  {
   "cell_type": "code",
   "execution_count": 19,
   "metadata": {
    "ExecuteTime": {
     "end_time": "2019-08-05T13:19:24.409154Z",
     "start_time": "2019-08-05T13:19:24.395405Z"
    }
   },
   "outputs": [
    {
     "data": {
      "text/plain": [
       "array([[6, 7, 8],\n",
       "       [3, 4, 5],\n",
       "       [0, 1, 2]])"
      ]
     },
     "execution_count": 19,
     "metadata": {},
     "output_type": "execute_result"
    }
   ],
   "source": [
    "# 18. How to reverse the rows of a 2D array?\n",
    "# Difficulty Level: L2\n",
    "arr = np.arange(9).reshape(3,3)\n",
    "arr[::-1, :]"
   ]
  },
  {
   "cell_type": "code",
   "execution_count": 20,
   "metadata": {
    "ExecuteTime": {
     "end_time": "2019-08-05T13:19:24.423315Z",
     "start_time": "2019-08-05T13:19:24.412439Z"
    }
   },
   "outputs": [
    {
     "data": {
      "text/plain": [
       "array([[2, 1, 0],\n",
       "       [5, 4, 3],\n",
       "       [8, 7, 6]])"
      ]
     },
     "execution_count": 20,
     "metadata": {},
     "output_type": "execute_result"
    }
   ],
   "source": [
    "# 19. How to reverse the columns of a 2D array?\n",
    "# Difficulty Level: L2\n",
    "arr = np.arange(9).reshape(3,3)\n",
    "arr[:,::-1]"
   ]
  },
  {
   "cell_type": "code",
   "execution_count": 21,
   "metadata": {
    "ExecuteTime": {
     "end_time": "2019-08-05T13:19:24.439687Z",
     "start_time": "2019-08-05T13:19:24.426670Z"
    }
   },
   "outputs": [
    {
     "name": "stdout",
     "output_type": "stream",
     "text": [
      "[[8.93855271 9.00077877 7.99221156]\n",
      " [9.61748151 9.61165316 6.00706631]\n",
      " [7.02306243 7.52477466 7.39986097]\n",
      " [9.04666566 8.97375552 7.23277134]\n",
      " [9.09060643 6.61838601 8.38246199]]\n",
      "[[9.91615443 7.33381447 9.29970203]\n",
      " [8.40153769 7.25249626 5.06632481]\n",
      " [9.71100878 7.81644109 6.92708251]\n",
      " [5.07983126 6.15446913 6.20512733]\n",
      " [8.41631759 8.04998329 9.16597456]]\n"
     ]
    }
   ],
   "source": [
    "# 20. How to create a 2D array containing random floats between 5 and 10?\n",
    "# Difficulty Level: L2\n",
    "\n",
    "# sol1\n",
    "sol1 = np.random.randint(5, 10, size=(5,3)) + np.random.random(size=(5,3))\n",
    "print(sol1)\n",
    "sol2 = np.random.uniform(low=5, high=10, size=(5,3))\n",
    "print(sol2)\n",
    "# hint\n",
    "# random methods are really make people confused\n",
    "# we can check the method using dir and list-comprehension\n",
    "# and it just saved your time\n",
    "# method_list = dir(np.random)\n",
    "# [method for method in method_list\n",
    "#                    if method.startswith('rand')]\n",
    "# quick note\n",
    "# random.ranint(low, high, size) --> [low, high) interger only\n",
    "# random.random_integers(low, high, size) --> [low, high] interger only\n",
    "# random.uniform(low, high, size) --> [low, high) float\n",
    "# random.random(size) --> [0,1) float\n",
    "# https://www.jianshu.com/p/214798dd8f93 簡書上的numpy.random相關函數整理，作者推薦"
   ]
  },
  {
   "cell_type": "code",
   "execution_count": 22,
   "metadata": {
    "ExecuteTime": {
     "end_time": "2019-08-05T13:19:24.466580Z",
     "start_time": "2019-08-05T13:19:24.450633Z"
    }
   },
   "outputs": [
    {
     "name": "stdout",
     "output_type": "stream",
     "text": [
      "[[0.173 0.391 0.182]\n",
      " [0.755 0.425 0.208]\n",
      " [0.568 0.031 0.842]\n",
      " [0.45  0.395 0.927]\n",
      " [0.727 0.327 0.57 ]]\n"
     ]
    }
   ],
   "source": [
    "# 21. How to print only 3 decimal places in python numpy array?\n",
    "# Difficulty Level: L1\n",
    "rand_arr = np.random.random((5,3))\n",
    "# sol1\n",
    "np.round(rand_arr,3)\n",
    "# sol2\n",
    "np.set_printoptions(precision=3)\n",
    "print(rand_arr)\n",
    "\n",
    "# hint\n",
    "# back_to_fefault option (by numpy documentation)\n",
    "np.set_printoptions(edgeitems=3,infstr='inf',\n",
    "linewidth=75, nanstr='nan', precision=8,\n",
    "suppress=False, threshold=1000, formatter=None)"
   ]
  },
  {
   "cell_type": "code",
   "execution_count": 23,
   "metadata": {
    "ExecuteTime": {
     "end_time": "2019-08-05T13:19:24.479811Z",
     "start_time": "2019-08-05T13:19:24.471549Z"
    }
   },
   "outputs": [],
   "source": [
    "# 22. How to pretty print a numpy array by suppressing the scientific notation (like 1e10)?\n",
    "# Difficulty Level: L1\n",
    "rand_arr = np.random.random([3,3])/1e4\n",
    "rand_arr\n",
    "np.set_printoptions(suppress=True, precision=5)\n",
    "rand_arr\n",
    "\n",
    "# hint\n",
    "# back_to_fefault option (by numpy documentation)\n",
    "np.set_printoptions(edgeitems=3,infstr='inf',\n",
    "linewidth=75, nanstr='nan', precision=8,\n",
    "suppress=False, threshold=1000, formatter=None)"
   ]
  },
  {
   "cell_type": "code",
   "execution_count": 24,
   "metadata": {
    "ExecuteTime": {
     "end_time": "2019-08-05T13:19:24.496095Z",
     "start_time": "2019-08-05T13:19:24.485967Z"
    }
   },
   "outputs": [
    {
     "name": "stdout",
     "output_type": "stream",
     "text": [
      "[ 0  1  2 ... 12 13 14]\n"
     ]
    }
   ],
   "source": [
    "# 23. How to limit the number of items printed in output of numpy array?\n",
    "# Difficulty Level: L1\n",
    "a = np.arange(15)\n",
    "np.set_printoptions(threshold=6)\n",
    "print(a)\n",
    "\n",
    "# hint\n",
    "# back_to_fefault option (by numpy documentation)\n",
    "np.set_printoptions(edgeitems=3,infstr='inf',\n",
    "linewidth=75, nanstr='nan', precision=8,\n",
    "suppress=False, threshold=1000, formatter=None)"
   ]
  },
  {
   "cell_type": "code",
   "execution_count": 25,
   "metadata": {
    "ExecuteTime": {
     "end_time": "2019-08-05T13:19:24.511598Z",
     "start_time": "2019-08-05T13:19:24.501249Z"
    }
   },
   "outputs": [
    {
     "name": "stdout",
     "output_type": "stream",
     "text": [
      "[ 0  1  2  3  4  5  6  7  8  9 10 11 12 13 14]\n"
     ]
    }
   ],
   "source": [
    "# 24. How to print the full numpy array without truncating\n",
    "# Difficulty Level: L1\n",
    "a = np.arange(15)\n",
    "np.set_printoptions(threshold=None)\n",
    "print(a)\n",
    "\n",
    "# hint\n",
    "# back_to_fefault option (by numpy documentation)\n",
    "np.set_printoptions(edgeitems=3,infstr='inf',\n",
    "linewidth=75, nanstr='nan', precision=8,\n",
    "suppress=False, threshold=1000, formatter=None)"
   ]
  },
  {
   "cell_type": "code",
   "execution_count": 26,
   "metadata": {
    "ExecuteTime": {
     "end_time": "2019-08-05T13:19:24.534955Z",
     "start_time": "2019-08-05T13:19:24.517056Z"
    }
   },
   "outputs": [
    {
     "data": {
      "text/plain": [
       "array([[b'5.1', b'3.5', b'1.4', b'0.2', b'Iris-setosa'],\n",
       "       [b'4.9', b'3.0', b'1.4', b'0.2', b'Iris-setosa'],\n",
       "       [b'4.7', b'3.2', b'1.3', b'0.2', b'Iris-setosa']], dtype=object)"
      ]
     },
     "execution_count": 26,
     "metadata": {},
     "output_type": "execute_result"
    }
   ],
   "source": [
    "# 25. How to import a dataset with numbers and texts keeping the text intact in python numpy?\n",
    "# Difficulty Level: L2\n",
    "url = 'https://archive.ics.uci.edu/ml/machine-learning-databases/iris/iris.data'\n",
    "iris = np.genfromtxt(url, delimiter=',', dtype='object')\n",
    "names = ('sepallength', 'sepalwidth', 'petallength', 'petalwidth', 'species')\n",
    "iris[:3]"
   ]
  },
  {
   "cell_type": "code",
   "execution_count": 27,
   "metadata": {
    "ExecuteTime": {
     "end_time": "2019-08-05T13:19:24.562211Z",
     "start_time": "2019-08-05T13:19:24.539087Z"
    },
    "lines_to_next_cell": 2
   },
   "outputs": [
    {
     "name": "stderr",
     "output_type": "stream",
     "text": [
      "/Users/longlong/.pyenv/versions/3.6.5/lib/python3.6/site-packages/ipykernel_launcher.py:7: VisibleDeprecationWarning: Reading unicode strings without specifying the encoding argument is deprecated. Set the encoding, use None for the system default.\n",
      "  import sys\n"
     ]
    },
    {
     "data": {
      "text/plain": [
       "array([b'Iris-setosa', b'Iris-setosa', b'Iris-setosa', b'Iris-setosa',\n",
       "       b'Iris-setosa'], dtype='|S15')"
      ]
     },
     "execution_count": 27,
     "metadata": {},
     "output_type": "execute_result"
    }
   ],
   "source": [
    "# 26. How to extract a particular column from 1D array of tuples?\n",
    "# Difficulty Level: L2\n",
    "\n",
    "url = 'https://archive.ics.uci.edu/ml/machine-learning-databases/iris/iris.data'\n",
    "iris_1d = np.genfromtxt(url, delimiter=',',\n",
    "                        names=['a','b','c','d','txt'],\n",
    "                        dtype=None)\n",
    "# More readable\n",
    "# use names filed \n",
    "# documentation about named fields \n",
    "# https://docs.scipy.org/doc/numpy-1.15.0/user/basics.rec.html\n",
    "iris_1d['txt'][:5]"
   ]
  },
  {
   "cell_type": "code",
   "execution_count": 28,
   "metadata": {
    "ExecuteTime": {
     "end_time": "2019-08-05T13:19:24.585123Z",
     "start_time": "2019-08-05T13:19:24.567002Z"
    },
    "lines_to_next_cell": 2
   },
   "outputs": [
    {
     "name": "stderr",
     "output_type": "stream",
     "text": [
      "/Users/longlong/.pyenv/versions/3.6.5/lib/python3.6/site-packages/ipykernel_launcher.py:4: VisibleDeprecationWarning: Reading unicode strings without specifying the encoding argument is deprecated. Set the encoding, use None for the system default.\n",
      "  after removing the cwd from sys.path.\n"
     ]
    },
    {
     "data": {
      "text/plain": [
       "array([(5.1, 3.5, 1.4, 0.2, b'Iris-setosa'),\n",
       "       (4.9, 3. , 1.4, 0.2, b'Iris-setosa'),\n",
       "       (4.7, 3.2, 1.3, 0.2, b'Iris-setosa'),\n",
       "       (4.6, 3.1, 1.5, 0.2, b'Iris-setosa'),\n",
       "       (5. , 3.6, 1.4, 0.2, b'Iris-setosa')],\n",
       "      dtype=[('f0', '<f8'), ('f1', '<f8'), ('f2', '<f8'), ('f3', '<f8'), ('f4', 'S15')])"
      ]
     },
     "execution_count": 28,
     "metadata": {},
     "output_type": "execute_result"
    }
   ],
   "source": [
    "# 27. How to convert a 1d array of tuples to a 2d numpy array?\n",
    "# Difficulty Level: L2\n",
    "url = 'https://archive.ics.uci.edu/ml/machine-learning-databases/iris/iris.data'\n",
    "iris_1d = np.genfromtxt(url, delimiter=',', dtype=None)\n",
    "\n",
    "# More readable\n",
    "# Just use asarray to unpack the element\n",
    "result = np.asarray(iris_1d)\n",
    "result[:5]"
   ]
  },
  {
   "cell_type": "code",
   "execution_count": 29,
   "metadata": {
    "ExecuteTime": {
     "end_time": "2019-08-05T13:19:24.604803Z",
     "start_time": "2019-08-05T13:19:24.588204Z"
    },
    "lines_to_next_cell": 2
   },
   "outputs": [
    {
     "name": "stdout",
     "output_type": "stream",
     "text": [
      "mean  5.843333333333335\n",
      "median  5.8\n",
      "std  0.8253012917851409\n"
     ]
    }
   ],
   "source": [
    "# 28. How to compute the mean, median, standard deviation of a numpy array?\n",
    "# Difficulty: L1\n",
    "\n",
    "url = 'https://archive.ics.uci.edu/ml/machine-learning-databases/iris/iris.data'\n",
    "iris = np.genfromtxt(url, delimiter=',', dtype='object')\n",
    "iris[:, 0:4] = iris[:, 0:4].astype(float)\n",
    "print( 'mean ',iris[:, 0].mean())\n",
    "print('median ', np.median(iris[:, 0]))\n",
    "print('std ',iris[:, 0].std())"
   ]
  },
  {
   "cell_type": "code",
   "execution_count": 30,
   "metadata": {
    "ExecuteTime": {
     "end_time": "2019-08-05T13:19:24.622548Z",
     "start_time": "2019-08-05T13:19:24.608118Z"
    }
   },
   "outputs": [
    {
     "data": {
      "text/plain": [
       "array([0.22222222, 0.16666667, 0.11111111, 0.08333333, 0.19444444])"
      ]
     },
     "execution_count": 30,
     "metadata": {},
     "output_type": "execute_result"
    }
   ],
   "source": [
    "# 29. How to normalize an array so the values range exactly between 0 and 1?\n",
    "# Difficulty: L2\n",
    "url = 'https://archive.ics.uci.edu/ml/machine-learning-databases/iris/iris.data'\n",
    "sepallength = np.genfromtxt(url, delimiter=',', dtype='float', usecols=[0])\n",
    "\n",
    "Smax, Smin = sepallength.max(), sepallength.min()\n",
    "S = (sepallength - Smin) / (Smax - Smin)\n",
    "S[:5]"
   ]
  },
  {
   "cell_type": "code",
   "execution_count": 31,
   "metadata": {
    "ExecuteTime": {
     "end_time": "2019-08-05T13:19:24.638378Z",
     "start_time": "2019-08-05T13:19:24.625615Z"
    }
   },
   "outputs": [
    {
     "name": "stdout",
     "output_type": "stream",
     "text": [
      "The max of softmax score : \n",
      "0.036500296150864316\n",
      "The mean of softmax score : \n",
      "0.0066666666666666645\n"
     ]
    }
   ],
   "source": [
    "# 30. How to compute the softmax score?\n",
    "# Difficulty Level: L3\n",
    "\n",
    "url = 'https://archive.ics.uci.edu/ml/machine-learning-databases/iris/iris.data'\n",
    "sepallength = np.genfromtxt(url, delimiter=',', dtype='float', usecols=[0])\n",
    "softmax_socre = np.exp(sepallength) / sum(np.exp(sepallength))\n",
    "softmax_socre[:5]\n",
    "\n",
    "# hint \n",
    "# softmax score --> 一種歸一化, 將原本的元素壓縮在0,1之間, 且所有元素和為1\n",
    "# 這樣的歸一化能夠強調最大的值, 並使其他值遠小於最大值\n",
    "# Wiki : https://zh.wikipedia.org/wiki/Softmax%E5%87%BD%E6%95%B0\n",
    "print('The max of softmax score : ',softmax_socre.max(),\n",
    "      'The mean of softmax score : ', softmax_socre.mean(), sep='\\n')\n",
    "# when to use?\n",
    "# Logistic regression, NN, Maive Byes ...."
   ]
  },
  {
   "cell_type": "code",
   "execution_count": 32,
   "metadata": {
    "ExecuteTime": {
     "end_time": "2019-08-05T13:19:24.654859Z",
     "start_time": "2019-08-05T13:19:24.641870Z"
    },
    "lines_to_next_cell": 2
   },
   "outputs": [
    {
     "name": "stdout",
     "output_type": "stream",
     "text": [
      "4.6\n",
      "7.254999999999998\n"
     ]
    }
   ],
   "source": [
    "# 31. How to find the percentile scores of a numpy array?\n",
    "# Difficulty Level: L1\n",
    "# Q. Find the 5th and 95th percentile of iris's sepallength\n",
    "\n",
    "\n",
    "url = 'https://archive.ics.uci.edu/ml/machine-learning-databases/iris/iris.data'\n",
    "sepallength = np.genfromtxt(url, delimiter=',', dtype='float', usecols=[0])\n",
    "print(np.quantile(sepallength, 0.05))\n",
    "print(np.quantile(sepallength, 0.95))"
   ]
  },
  {
   "cell_type": "code",
   "execution_count": 33,
   "metadata": {
    "ExecuteTime": {
     "end_time": "2019-08-05T13:19:24.675714Z",
     "start_time": "2019-08-05T13:19:24.658094Z"
    }
   },
   "outputs": [
    {
     "data": {
      "text/plain": [
       "array([[b'5.1', b'3.5', b'1.4', b'0.2', b'Iris-setosa'],\n",
       "       [b'4.9', b'3.0', b'1.4', b'0.2', b'Iris-setosa'],\n",
       "       [b'4.7', b'3.2', b'1.3', b'0.2', b'Iris-setosa'],\n",
       "       [b'4.6', b'3.1', b'1.5', b'0.2', b'Iris-setosa'],\n",
       "       [b'5.0', b'3.6', nan, b'0.2', b'Iris-setosa'],\n",
       "       [b'5.4', b'3.9', b'1.7', b'0.4', b'Iris-setosa'],\n",
       "       [b'4.6', b'3.4', b'1.4', b'0.3', b'Iris-setosa'],\n",
       "       [b'5.0', b'3.4', b'1.5', b'0.2', b'Iris-setosa'],\n",
       "       [b'4.4', b'2.9', b'1.4', nan, b'Iris-setosa'],\n",
       "       [b'4.9', b'3.1', b'1.5', b'0.1', b'Iris-setosa']], dtype=object)"
      ]
     },
     "execution_count": 33,
     "metadata": {},
     "output_type": "execute_result"
    }
   ],
   "source": [
    "# 32. How to insert values at random positions in an array?\n",
    "# Difficulty Level: L2\n",
    "\n",
    "# Q. Insert np.nan values at 20 random positions in iris_2d dataset\n",
    "\n",
    "url = 'https://archive.ics.uci.edu/ml/machine-learning-databases/iris/iris.data'\n",
    "iris_2d = np.genfromtxt(url, delimiter=',', dtype='object')\n",
    "\n",
    "pos_x = np.random.randint(low=0, high=iris_2d.shape[0], size=20)\n",
    "pos_y = np.random.randint(low=0, high=iris_2d.shape[1], size=20)\n",
    "iris_2d[pos_x, pos_y] = np.nan\n",
    "iris_2d[:10]"
   ]
  },
  {
   "cell_type": "code",
   "execution_count": 34,
   "metadata": {
    "ExecuteTime": {
     "end_time": "2019-08-05T13:19:24.691152Z",
     "start_time": "2019-08-05T13:19:24.679918Z"
    },
    "lines_to_next_cell": 2
   },
   "outputs": [],
   "source": [
    "# 33. How to find the position of missing values in numpy array?\n",
    "# Difficulty Level: L2\n",
    "# Q. Find the number and position of missing values in iris_2d's sepallength (1st column)\n",
    "\n",
    "url = 'https://archive.ics.uci.edu/ml/machine-learning-databases/iris/iris.data'\n",
    "iris_2d = np.genfromtxt(url, delimiter=',', dtype='float')\n",
    "iris_2d[np.random.randint(150, size=20), np.random.randint(4, size=20)] = np.nan"
   ]
  },
  {
   "cell_type": "code",
   "execution_count": 35,
   "metadata": {
    "ExecuteTime": {
     "end_time": "2019-08-05T13:19:24.709272Z",
     "start_time": "2019-08-05T13:19:24.694355Z"
    },
    "lines_to_next_cell": 2
   },
   "outputs": [
    {
     "data": {
      "text/plain": [
       "array([[4.8, 3.4, 1.6, 0.2],\n",
       "       [4.8, 3.4, 1.9, 0.2],\n",
       "       [4.7, 3.2, 1.6, 0.2],\n",
       "       [4.8, 3.1, 1.6, 0.2],\n",
       "       [4.9, 2.4, 3.3, 1. ]])"
      ]
     },
     "execution_count": 35,
     "metadata": {},
     "output_type": "execute_result"
    }
   ],
   "source": [
    "# 34. How to filter a numpy array based on two or more conditions?\n",
    "# Difficulty Level: L3\n",
    "\n",
    "# Q. Filter the rows of iris_2d that has petallength (3rd column) > 1.5 and sepallength (1st column) < 5.0\n",
    "\n",
    "url = 'https://archive.ics.uci.edu/ml/machine-learning-databases/iris/iris.data'\n",
    "iris_2d = np.genfromtxt(url, delimiter=',', dtype='float', usecols=[0,1,2,3])\n",
    "\n",
    "condition = (iris_2d[:, 2] > 1.5) & (iris_2d[:, 0] < 5.0)\n",
    "iris_2d[condition][:5]"
   ]
  },
  {
   "cell_type": "code",
   "execution_count": 36,
   "metadata": {
    "ExecuteTime": {
     "end_time": "2019-08-05T13:19:24.735657Z",
     "start_time": "2019-08-05T13:19:24.712543Z"
    }
   },
   "outputs": [
    {
     "name": "stdout",
     "output_type": "stream",
     "text": [
      "(134, 4)\n"
     ]
    },
    {
     "data": {
      "text/plain": [
       "array([[5.1, 3.5, 1.4, 0.2],\n",
       "       [4.9, 3. , 1.4, 0.2],\n",
       "       [4.6, 3.1, 1.5, 0.2],\n",
       "       [5. , 3.6, 1.4, 0.2],\n",
       "       [5.4, 3.9, 1.7, 0.4]])"
      ]
     },
     "execution_count": 36,
     "metadata": {},
     "output_type": "execute_result"
    }
   ],
   "source": [
    "# 35. How to drop rows that contain a missing value from a numpy array?\n",
    "# Difficulty Level: L3:\n",
    "# Q. Select the rows of iris_2d that does not have any nan value.\n",
    "\n",
    "url = 'https://archive.ics.uci.edu/ml/machine-learning-databases/iris/iris.data'\n",
    "iris_2d = np.genfromtxt(url, delimiter=',', dtype='float', usecols=[0,1,2,3])\n",
    "iris_2d[np.random.randint(150, size=20), np.random.randint(4, size=20)] = np.nan\n",
    "\n",
    "# mask or np.where\n",
    "# np.isnan will flattern our 2d-array\n",
    "# so followed will return shape = 600\n",
    "# condintion = ~ np.isnan(iris_2d)\n",
    "# iris_2d[condintion].shape\n",
    "\n",
    "# then we do it by rowise\n",
    "mask = [~ np.any(np.isnan(row)) for row in iris_2d]\n",
    "print(iris_2d[mask].shape)\n",
    "iris_2d[mask][:5]"
   ]
  },
  {
   "cell_type": "code",
   "execution_count": 37,
   "metadata": {
    "ExecuteTime": {
     "end_time": "2019-08-05T13:19:24.757211Z",
     "start_time": "2019-08-05T13:19:24.739163Z"
    }
   },
   "outputs": [
    {
     "data": {
      "text/plain": [
       "array([[1.        , 0.87175416],\n",
       "       [0.87175416, 1.        ]])"
      ]
     },
     "execution_count": 37,
     "metadata": {},
     "output_type": "execute_result"
    }
   ],
   "source": [
    "# 36. How to find the correlation between two columns of a numpy array?\n",
    "# Difficulty Level: L2\n",
    "# Q. Find the correlation between SepalLength(1st column) and PetalLength(3rd column) in iris_2d\n",
    "\n",
    "url = 'https://archive.ics.uci.edu/ml/machine-learning-databases/iris/iris.data'\n",
    "iris_2d = np.genfromtxt(url, delimiter=',', dtype='float', usecols=[0,1,2,3])\n",
    "\n",
    "np.corrcoef(iris_2d[:, 0], iris_2d[:, 2])"
   ]
  },
  {
   "cell_type": "code",
   "execution_count": 38,
   "metadata": {
    "ExecuteTime": {
     "end_time": "2019-08-05T13:19:24.781039Z",
     "start_time": "2019-08-05T13:19:24.761431Z"
    },
    "lines_to_next_cell": 0
   },
   "outputs": [
    {
     "data": {
      "text/plain": [
       "True"
      ]
     },
     "execution_count": 38,
     "metadata": {},
     "output_type": "execute_result"
    }
   ],
   "source": [
    "# 37. How to find if a given array has any null values?\n",
    "# Difficulty Level: L2\n",
    "# iris_2d[np.random.randint(150, size=20), np.random.randint(4, size=20)] = np.nan\n",
    "url = 'https://archive.ics.uci.edu/ml/machine-learning-databases/iris/iris.data'\n",
    "iris_2d = np.genfromtxt(url, delimiter=',', dtype='float', usecols=[0,1,2,3])\n",
    "iris_2d[np.random.randint(150, size=20), np.random.randint(4, size=20)] = np.nan\n",
    "\n",
    "np.isnan(iris_2d).any()\n",
    "\n",
    "\n"
   ]
  },
  {
   "cell_type": "code",
   "execution_count": null,
   "metadata": {
    "lines_to_next_cell": 2
   },
   "outputs": [],
   "source": []
  },
  {
   "cell_type": "code",
   "execution_count": 39,
   "metadata": {
    "ExecuteTime": {
     "end_time": "2019-08-05T13:19:24.796059Z",
     "start_time": "2019-08-05T13:19:24.784078Z"
    },
    "lines_to_next_cell": 2
   },
   "outputs": [
    {
     "name": "stdout",
     "output_type": "stream",
     "text": [
      "False\n"
     ]
    }
   ],
   "source": [
    "# 38. How to replace all missing values with 0 in a numpy array?\n",
    "# Difficulty Level: L2\n",
    "\n",
    "# Q. Replace all ccurrences of nan with 0 in numpy array\n",
    "\n",
    "url = 'https://archive.ics.uci.edu/ml/machine-learning-databases/iris/iris.data'\n",
    "iris_2d = np.genfromtxt(url, delimiter=',', dtype='float', usecols=[0,1,2,3])\n",
    "iris_2d[np.random.randint(150, size=20), np.random.randint(4, size=20)] = np.nan\n",
    "\n",
    "\n",
    "# More readable \n",
    "iris_2d = np.where(np.isnan(iris_2d), 0, iris_2d)\n",
    "print(np.isnan(iris_2d).any())"
   ]
  },
  {
   "cell_type": "code",
   "execution_count": 43,
   "metadata": {
    "ExecuteTime": {
     "end_time": "2019-08-05T13:22:38.374209Z",
     "start_time": "2019-08-05T13:22:38.361627Z"
    },
    "lines_to_next_cell": 0
   },
   "outputs": [
    {
     "data": {
      "text/plain": [
       "(array([b'Iris-setosa', b'Iris-versicolor', b'Iris-virginica'],\n",
       "       dtype=object), array([50, 50, 50]))"
      ]
     },
     "execution_count": 43,
     "metadata": {},
     "output_type": "execute_result"
    }
   ],
   "source": [
    "# 39. How to find the count of unique values in a numpy array?\n",
    "# Difficulty Level: L2\n",
    "\n",
    "# Q. Find the unique values and the count of unique values in iris's species\n",
    "\n",
    "url = 'https://archive.ics.uci.edu/ml/machine-learning-databases/iris/iris.data'\n",
    "iris = np.genfromtxt(url, delimiter=',', dtype='object')\n",
    "names = ('sepallength', 'sepalwidth', 'petallength', 'petalwidth', 'species')\n",
    "\n",
    "\n",
    "np.unique(iris[:, -1], return_counts=True)\n",
    "\n"
   ]
  },
  {
   "cell_type": "code",
   "execution_count": 85,
   "metadata": {
    "ExecuteTime": {
     "end_time": "2019-08-05T14:18:48.588006Z",
     "start_time": "2019-08-05T14:18:48.572422Z"
    },
    "lines_to_next_cell": 2
   },
   "outputs": [
    {
     "data": {
      "text/plain": [
       "array(['small', 'small', 'small', 'small', 'small'], dtype='<U6')"
      ]
     },
     "execution_count": 85,
     "metadata": {},
     "output_type": "execute_result"
    }
   ],
   "source": [
    "# 40. How to convert a numeric to a categorical (text) array?\n",
    "# Difficulty Level: L2\n",
    "\n",
    "# Q. Bin the petal length (3rd) column of iris_2d to form a text array, such that if petal length is:\n",
    "\n",
    "# Less than 3 --> 'small'\n",
    "# 3-5 --> 'medium'\n",
    "# '>=5 --> 'large'\n",
    "\n",
    "url = 'https://archive.ics.uci.edu/ml/machine-learning-databases/iris/iris.data'\n",
    "iris = np.genfromtxt(url, delimiter=',', dtype='object')\n",
    "names = ('sepallength', 'sepalwidth', 'petallength', 'petalwidth', 'species')\n",
    "\n",
    "# Vectorlized\n",
    "\n",
    "bins = np.array([0, 3, 5, 100])\n",
    "def label_map(x):\n",
    "    if x == 1:\n",
    "        return 'small'\n",
    "    elif x == 2:\n",
    "        return 'medium'\n",
    "    elif x == 3:\n",
    "        return 'large'\n",
    "    else:\n",
    "        return np.nan\n",
    "tmp = np.digitize(iris[:, 2].astype(float), bins)\n",
    "v_label_map = np.vectorize(label_map)\n",
    "v_label_map(tmp)[:5]\n",
    "\n",
    "# Hint\n",
    "# the comparision below when your data is really large\n",
    "# use dictionary and list-comprehension\n"
   ]
  },
  {
   "cell_type": "code",
   "execution_count": 82,
   "metadata": {
    "ExecuteTime": {
     "end_time": "2019-08-05T14:14:38.048835Z",
     "start_time": "2019-08-05T14:14:37.942085Z"
    }
   },
   "outputs": [],
   "source": [
    "# test_arr = np.random.randint(low=1, high=4, size=5000000)"
   ]
  },
  {
   "cell_type": "code",
   "execution_count": 83,
   "metadata": {
    "ExecuteTime": {
     "end_time": "2019-08-05T14:14:49.128594Z",
     "start_time": "2019-08-05T14:14:47.413160Z"
    }
   },
   "outputs": [
    {
     "name": "stdout",
     "output_type": "stream",
     "text": [
      "CPU times: user 1.67 s, sys: 28.6 ms, total: 1.69 s\n",
      "Wall time: 1.71 s\n"
     ]
    }
   ],
   "source": [
    "# %%time\n",
    "# label_map = {1 : 'small', 2 : 'medium', 3:'large'}\n",
    "# result = [label_map[element] for element in test_arr]\n",
    "# took 1.71s on my mac-air\n"
   ]
  },
  {
   "cell_type": "code",
   "execution_count": 84,
   "metadata": {
    "ExecuteTime": {
     "end_time": "2019-08-05T14:15:18.586975Z",
     "start_time": "2019-08-05T14:15:18.577953Z"
    }
   },
   "outputs": [
    {
     "name": "stdout",
     "output_type": "stream",
     "text": [
      "CPU times: user 179 µs, sys: 31 µs, total: 210 µs\n",
      "Wall time: 191 µs\n"
     ]
    },
    {
     "data": {
      "text/plain": [
       "array(['small', 'small', 'small', 'small', 'small', 'small', 'small',\n",
       "       'small', 'small', 'small', 'small', 'small', 'small', 'small',\n",
       "       'small', 'small', 'small', 'small', 'small', 'small', 'small',\n",
       "       'small', 'small', 'small', 'small', 'small', 'small', 'small',\n",
       "       'small', 'small', 'small', 'small', 'small', 'small', 'small',\n",
       "       'small', 'small', 'small', 'small', 'small', 'small', 'small',\n",
       "       'small', 'small', 'small', 'small', 'small', 'small', 'small',\n",
       "       'small', 'medium', 'medium', 'medium', 'medium', 'medium',\n",
       "       'medium', 'medium', 'medium', 'medium', 'medium', 'medium',\n",
       "       'medium', 'medium', 'medium', 'medium', 'medium', 'medium',\n",
       "       'medium', 'medium', 'medium', 'medium', 'medium', 'medium',\n",
       "       'medium', 'medium', 'medium', 'medium', 'large', 'medium',\n",
       "       'medium', 'medium', 'medium', 'medium', 'large', 'medium',\n",
       "       'medium', 'medium', 'medium', 'medium', 'medium', 'medium',\n",
       "       'medium', 'medium', 'medium', 'medium', 'medium', 'medium',\n",
       "       'medium', 'medium', 'medium', 'large', 'large', 'large', 'large',\n",
       "       'large', 'large', 'medium', 'large', 'large', 'large', 'large',\n",
       "       'large', 'large', 'large', 'large', 'large', 'large', 'large',\n",
       "       'large', 'large', 'large', 'medium', 'large', 'medium', 'large',\n",
       "       'large', 'medium', 'medium', 'large', 'large', 'large', 'large',\n",
       "       'large', 'large', 'large', 'large', 'large', 'large', 'medium',\n",
       "       'large', 'large', 'large', 'large', 'large', 'large', 'large',\n",
       "       'large', 'large', 'large', 'large'], dtype='<U6')"
      ]
     },
     "execution_count": 84,
     "metadata": {},
     "output_type": "execute_result"
    }
   ],
   "source": [
    "# %%time\n",
    "# def label_map(x):\n",
    "#     if x == 1:\n",
    "#         return 'small'\n",
    "#     elif x == 2:\n",
    "#         return 'medium'\n",
    "#     elif x == 3:\n",
    "#         return 'large'\n",
    "#     else:\n",
    "#         return np.nan\n",
    "# v_label_map = np.vectorize(label_map)\n",
    "# v_label_map(tmp)\n",
    "# took 191 µs o my mac-air\n",
    "\n",
    "# A brief report no stackoverflow\n",
    "# https://stackoverflow.com/questions/35215161/most-efficient-way-to-map-function-over-numpy-array"
   ]
  },
  {
   "cell_type": "code",
   "execution_count": null,
   "metadata": {},
   "outputs": [],
   "source": []
  },
  {
   "cell_type": "code",
   "execution_count": null,
   "metadata": {},
   "outputs": [],
   "source": []
  },
  {
   "cell_type": "code",
   "execution_count": 62,
   "metadata": {
    "ExecuteTime": {
     "end_time": "2019-08-05T13:51:53.423157Z",
     "start_time": "2019-08-05T13:51:53.410835Z"
    }
   },
   "outputs": [
    {
     "data": {
      "text/plain": [
       "array([38.13265163, 35.20049849, 30.07237208, 33.23805027, 36.65191429])"
      ]
     },
     "execution_count": 62,
     "metadata": {},
     "output_type": "execute_result"
    }
   ],
   "source": [
    "# 41. How to create a new column from existing columns of a numpy array?\n",
    "# Difficulty Level: L2\n",
    "\n",
    "# Q. Create a new column for volume in iris_2d, where volume is (pi x petallength x sepal_length^2)/3\n",
    "\n",
    "url = 'https://archive.ics.uci.edu/ml/machine-learning-databases/iris/iris.data'\n",
    "iris_2d = np.genfromtxt(url, delimiter=',', dtype='object')\n",
    "names = ('sepallength', 'sepalwidth', 'petallength', 'petalwidth', 'species')\n",
    "pi = np.pi\n",
    "\n",
    "result = pi * iris_2d[:, 2].astype(float) * (iris_2d[:, 0].astype(float) ** 2) / 3\n",
    "result[:5]"
   ]
  },
  {
   "cell_type": "code",
   "execution_count": 71,
   "metadata": {
    "ExecuteTime": {
     "end_time": "2019-08-05T14:02:27.080345Z",
     "start_time": "2019-08-05T14:02:27.067931Z"
    }
   },
   "outputs": [
    {
     "name": "stdout",
     "output_type": "stream",
     "text": [
      "result array distribution : (array([b'Iris-setosa', b'Iris-versicolor', b'Iris-virginica'],\n",
      "      dtype=object), array([44, 25, 31]))\n"
     ]
    }
   ],
   "source": [
    "# 42. How to do probabilistic sampling in numpy?\n",
    "# Difficulty Level: L3\n",
    "    \n",
    "# Q. Randomly sample iris's species such that setose is twice the number of versicolor and virginica\n",
    "url = 'https://archive.ics.uci.edu/ml/machine-learning-databases/iris/iris.data'\n",
    "iris = np.genfromtxt(url, delimiter=',', dtype='object')\n",
    "\n",
    "\n",
    "spcies_unq = np.unique(iris[:, -1])\n",
    "p = [0.5, 0.25, 0.25]\n",
    "result = np.random.choice(spcies_unq, size=100, p=p)\n",
    "print('result array distribution :',np.unique(result, return_counts=True))\n",
    "\n",
    "# hint\n",
    "# you could see sampling documentation \n",
    "# https://docs.scipy.org/doc/numpy-1.16.0/reference/routines.random.html\n"
   ]
  },
  {
   "cell_type": "code",
   "execution_count": null,
   "metadata": {},
   "outputs": [],
   "source": []
  }
 ],
 "metadata": {
  "jupytext": {
   "encoding": "# -*- coding: utf-8 -*-",
   "formats": "ipynb,py:light"
  },
  "kernelspec": {
   "display_name": "Python 3",
   "language": "python",
   "name": "python3"
  },
  "language_info": {
   "codemirror_mode": {
    "name": "ipython",
    "version": 3
   },
   "file_extension": ".py",
   "mimetype": "text/x-python",
   "name": "python",
   "nbconvert_exporter": "python",
   "pygments_lexer": "ipython3",
   "version": "3.6.5"
  },
  "toc": {
   "base_numbering": 1,
   "nav_menu": {},
   "number_sections": true,
   "sideBar": true,
   "skip_h1_title": false,
   "title_cell": "Table of Contents",
   "title_sidebar": "Contents",
   "toc_cell": false,
   "toc_position": {},
   "toc_section_display": true,
   "toc_window_display": false
  }
 },
 "nbformat": 4,
 "nbformat_minor": 2
}
